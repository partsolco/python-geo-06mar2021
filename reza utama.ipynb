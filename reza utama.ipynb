{
 "cells": [
  {
   "cell_type": "code",
   "execution_count": 121,
   "metadata": {},
   "outputs": [
    {
     "name": "stdout",
     "output_type": "stream",
     "text": [
      "Requirement already satisfied: lasio in c:\\users\\garuda\\anaconda3\\lib\\site-packages (0.28)\n",
      "Requirement already satisfied: numpy in c:\\users\\garuda\\anaconda3\\lib\\site-packages (from lasio) (1.19.2)\n"
     ]
    }
   ],
   "source": [
    "import warnings\n",
    "warnings.filterwarnings('ignore')\n",
    "import numpy as np\n",
    "import matplotlib.pyplot as plt\n",
    "import pandas as pd\n",
    "\n",
    "import sys\n",
    "!{sys.executable} -m pip install lasio"
   ]
  },
  {
   "cell_type": "markdown",
   "metadata": {},
   "source": [
    "## Petrophysics calculation"
   ]
  },
  {
   "cell_type": "code",
   "execution_count": 122,
   "metadata": {},
   "outputs": [
    {
     "name": "stdout",
     "output_type": "stream",
     "text": [
      "         CALI       DT      GR    ILD   MSFL  NPHI_LS   RHOB\n",
      "DEPTH                                                       \n",
      "3001.0  9.984  148.500  80.875  0.722  0.991  0.43701  2.170\n",
      "3001.5  9.938  148.625  80.875  0.718  1.026  0.47705  2.176\n",
      "3002.0  9.914  146.125  80.625  0.714  0.990  0.45947  2.166\n",
      "3002.5  9.859  145.375  82.625  0.715  0.953  0.47754  2.158\n",
      "3003.0  9.914  145.125  81.938  0.709  0.900  0.45508  2.156\n",
      "...       ...      ...     ...    ...    ...      ...    ...\n",
      "4458.0  8.484  109.000  79.812  1.122  1.744  0.33252  2.316\n",
      "4458.5  8.469  109.438  82.312  1.112  1.972  0.34082  2.326\n",
      "4459.0  8.484  109.562  77.188  1.092  1.959  0.35693  2.316\n",
      "4459.5  8.461  110.750  75.250  1.079  1.746  0.37256  2.311\n",
      "4460.0  8.469  110.938  75.188  1.067  1.625  0.36768  2.307\n",
      "\n",
      "[2919 rows x 7 columns]\n"
     ]
    }
   ],
   "source": [
    "import lasio\n",
    "las=lasio.read('well-1.las') \n",
    "\n",
    "#convert the las file to pandas dataframe, this will automatically retain the logname and made the depth as index column\n",
    "well=las.df()\n",
    "print (well)"
   ]
  },
  {
   "cell_type": "code",
   "execution_count": 123,
   "metadata": {},
   "outputs": [
    {
     "name": "stdout",
     "output_type": "stream",
     "text": [
      "         CALI       DT      GR    ILD   MSFL  NPHI_LS   RHOB\n",
      "DEPTH                                                       \n",
      "3338.0  8.617  123.625  88.812  1.006  1.292  0.48193  2.264\n",
      "3338.5  8.562  116.875  79.500  1.182  1.258  0.46924  2.320\n",
      "3339.0  8.594  100.000  68.562  1.417  1.250  0.37354  2.408\n",
      "3339.5  8.492   83.938  51.500  1.742  1.430  0.21143  2.562\n",
      "3340.0  8.297   65.750  33.844  2.174  7.311  0.13428  2.668\n",
      "...       ...      ...     ...    ...    ...      ...    ...\n",
      "3749.5  8.555  130.625  85.000  0.773  0.873  0.43115  2.184\n",
      "3750.0  8.648  130.875  87.500  0.772  0.891  0.43164  2.170\n",
      "3750.5  8.680  130.875  86.250  0.775  1.158  0.44092  2.178\n",
      "3751.0  8.727  129.375  89.188  0.773  1.072  0.42285  2.184\n",
      "3751.5  8.633  129.500  89.688  0.772  1.035  0.40430  2.191\n",
      "\n",
      "[828 rows x 7 columns]\n"
     ]
    }
   ],
   "source": [
    "KujungFM=well.loc[3337.79:3751.5]\n",
    "print (KujungFM)"
   ]
  },
  {
   "cell_type": "code",
   "execution_count": 124,
   "metadata": {},
   "outputs": [],
   "source": [
    "#this code is adapted from andy mcdonald\n",
    "\n",
    "def shale_volume(gamma_ray, gamma_ray_max, gamma_ray_min): #specify the arguments\n",
    "    vshale = (gamma_ray - gamma_ray_min) / (gamma_ray_max - gamma_ray_min) #use the argument to the equation using math operators\n",
    "    return round(vshale, 4)\n",
    "\n",
    "def density_porosity(input_density, matrix_density, fluid_density):\n",
    "    denpor = (matrix_density - input_density) / (matrix_density - fluid_density)\n",
    "    return round(denpor, 4)"
   ]
  },
  {
   "cell_type": "code",
   "execution_count": 125,
   "metadata": {},
   "outputs": [
    {
     "data": {
      "text/html": [
       "<div>\n",
       "<style scoped>\n",
       "    .dataframe tbody tr th:only-of-type {\n",
       "        vertical-align: middle;\n",
       "    }\n",
       "\n",
       "    .dataframe tbody tr th {\n",
       "        vertical-align: top;\n",
       "    }\n",
       "\n",
       "    .dataframe thead th {\n",
       "        text-align: right;\n",
       "    }\n",
       "</style>\n",
       "<table border=\"1\" class=\"dataframe\">\n",
       "  <thead>\n",
       "    <tr style=\"text-align: right;\">\n",
       "      <th></th>\n",
       "      <th>CALI</th>\n",
       "      <th>DT</th>\n",
       "      <th>GR</th>\n",
       "      <th>ILD</th>\n",
       "      <th>MSFL</th>\n",
       "      <th>NPHI_LS</th>\n",
       "      <th>RHOB</th>\n",
       "      <th>VSHALE</th>\n",
       "      <th>PHI</th>\n",
       "    </tr>\n",
       "    <tr>\n",
       "      <th>DEPTH</th>\n",
       "      <th></th>\n",
       "      <th></th>\n",
       "      <th></th>\n",
       "      <th></th>\n",
       "      <th></th>\n",
       "      <th></th>\n",
       "      <th></th>\n",
       "      <th></th>\n",
       "      <th></th>\n",
       "    </tr>\n",
       "  </thead>\n",
       "  <tbody>\n",
       "    <tr>\n",
       "      <th>3338.0</th>\n",
       "      <td>8.617</td>\n",
       "      <td>123.625</td>\n",
       "      <td>88.812</td>\n",
       "      <td>1.006</td>\n",
       "      <td>1.292</td>\n",
       "      <td>0.48193</td>\n",
       "      <td>2.264</td>\n",
       "      <td>0.8678</td>\n",
       "      <td>0.2339</td>\n",
       "    </tr>\n",
       "    <tr>\n",
       "      <th>3338.5</th>\n",
       "      <td>8.562</td>\n",
       "      <td>116.875</td>\n",
       "      <td>79.500</td>\n",
       "      <td>1.182</td>\n",
       "      <td>1.258</td>\n",
       "      <td>0.46924</td>\n",
       "      <td>2.320</td>\n",
       "      <td>0.7119</td>\n",
       "      <td>0.2000</td>\n",
       "    </tr>\n",
       "    <tr>\n",
       "      <th>3339.0</th>\n",
       "      <td>8.594</td>\n",
       "      <td>100.000</td>\n",
       "      <td>68.562</td>\n",
       "      <td>1.417</td>\n",
       "      <td>1.250</td>\n",
       "      <td>0.37354</td>\n",
       "      <td>2.408</td>\n",
       "      <td>0.5289</td>\n",
       "      <td>0.1467</td>\n",
       "    </tr>\n",
       "    <tr>\n",
       "      <th>3339.5</th>\n",
       "      <td>8.492</td>\n",
       "      <td>83.938</td>\n",
       "      <td>51.500</td>\n",
       "      <td>1.742</td>\n",
       "      <td>1.430</td>\n",
       "      <td>0.21143</td>\n",
       "      <td>2.562</td>\n",
       "      <td>0.2433</td>\n",
       "      <td>0.0533</td>\n",
       "    </tr>\n",
       "    <tr>\n",
       "      <th>3340.0</th>\n",
       "      <td>8.297</td>\n",
       "      <td>65.750</td>\n",
       "      <td>33.844</td>\n",
       "      <td>2.174</td>\n",
       "      <td>7.311</td>\n",
       "      <td>0.13428</td>\n",
       "      <td>2.668</td>\n",
       "      <td>-0.0522</td>\n",
       "      <td>-0.0109</td>\n",
       "    </tr>\n",
       "  </tbody>\n",
       "</table>\n",
       "</div>"
      ],
      "text/plain": [
       "         CALI       DT      GR    ILD   MSFL  NPHI_LS   RHOB  VSHALE     PHI\n",
       "DEPTH                                                                       \n",
       "3338.0  8.617  123.625  88.812  1.006  1.292  0.48193  2.264  0.8678  0.2339\n",
       "3338.5  8.562  116.875  79.500  1.182  1.258  0.46924  2.320  0.7119  0.2000\n",
       "3339.0  8.594  100.000  68.562  1.417  1.250  0.37354  2.408  0.5289  0.1467\n",
       "3339.5  8.492   83.938  51.500  1.742  1.430  0.21143  2.562  0.2433  0.0533\n",
       "3340.0  8.297   65.750  33.844  2.174  7.311  0.13428  2.668 -0.0522 -0.0109"
      ]
     },
     "execution_count": 125,
     "metadata": {},
     "output_type": "execute_result"
    }
   ],
   "source": [
    "mDens= 2.65\n",
    "fDens= 1\n",
    "KujungFM['VSHALE']=shale_volume(KujungFM['GR'], KujungFM['GR'].quantile(q=0.99),\n",
    "                             KujungFM['GR'].quantile(q=0.01))\n",
    "KujungFM['PHI']=density_porosity(KujungFM['RHOB'], mDens, fDens)\n",
    "KujungFM.head()"
   ]
  },
  {
   "cell_type": "markdown",
   "metadata": {},
   "source": [
    "### Calculate RW and SW\n",
    "\n",
    "**Apparent water formation resistivity using Hingle method**\n",
    "<img src=https://github.com/partsolco/python-geo-20feb2021/blob/main/images/rw.PNG?raw=true>\n",
    "\n",
    "**SW:**\n",
    "<img src=https://github.com/partsolco/python-geo-20feb2021/blob/main/images/sw_archie.png?raw=true>"
   ]
  },
  {
   "cell_type": "code",
   "execution_count": 126,
   "metadata": {},
   "outputs": [],
   "source": [
    "def rw_app(porosity, archieA, archieM, rt):\n",
    "    rw=((porosity ** archieM) * (rt/archieA))\n",
    "    return rw\n",
    "\n",
    "def sw_archie(porosity, rt, rw, archieA, archieM, archieN):\n",
    "    sw = ((archieA / (porosity ** archieM)) * (rw/rt))**(1/archieN)\n",
    "    return sw\n",
    "\n",
    "archieA= 1\n",
    "archieM= 2\n",
    "archieN= 2"
   ]
  },
  {
   "cell_type": "code",
   "execution_count": 127,
   "metadata": {},
   "outputs": [
    {
     "name": "stdout",
     "output_type": "stream",
     "text": [
      "         CALI       DT      GR    ILD   MSFL  NPHI_LS   RHOB  VSHALE     PHI  \\\n",
      "DEPTH                                                                          \n",
      "3338.0  8.617  123.625  88.812  1.006  1.292  0.48193  2.264  0.8678  0.2339   \n",
      "3338.5  8.562  116.875  79.500  1.182  1.258  0.46924  2.320  0.7119  0.2000   \n",
      "3339.0  8.594  100.000  68.562  1.417  1.250  0.37354  2.408  0.5289  0.1467   \n",
      "3339.5  8.492   83.938  51.500  1.742  1.430  0.21143  2.562  0.2433  0.0533   \n",
      "3340.0  8.297   65.750  33.844  2.174  7.311  0.13428  2.668 -0.0522 -0.0109   \n",
      "...       ...      ...     ...    ...    ...      ...    ...     ...     ...   \n",
      "3749.5  8.555  130.625  85.000  0.773  0.873  0.43115  2.184  0.8040  0.2824   \n",
      "3750.0  8.648  130.875  87.500  0.772  0.891  0.43164  2.170  0.8458  0.2909   \n",
      "3750.5  8.680  130.875  86.250  0.775  1.158  0.44092  2.178  0.8249  0.2861   \n",
      "3751.0  8.727  129.375  89.188  0.773  1.072  0.42285  2.184  0.8741  0.2824   \n",
      "3751.5  8.633  129.500  89.688  0.772  1.035  0.40430  2.191  0.8825  0.2782   \n",
      "\n",
      "              rw  \n",
      "DEPTH             \n",
      "3338.0  0.233650  \n",
      "3338.5  0.260260  \n",
      "3339.0  0.197717  \n",
      "3339.5  0.077872  \n",
      "3340.0  0.039200  \n",
      "...          ...  \n",
      "3749.5  0.143693  \n",
      "3750.0  0.143834  \n",
      "3750.5  0.150668  \n",
      "3751.0  0.138214  \n",
      "3751.5  0.126190  \n",
      "\n",
      "[828 rows x 10 columns]\n"
     ]
    }
   ],
   "source": [
    "KujungFM['rw']=rw_app(KujungFM[\"NPHI_LS\"], archieA, archieM, KujungFM[\"ILD\"])\n",
    "print (KujungFM)"
   ]
  },
  {
   "cell_type": "code",
   "execution_count": 128,
   "metadata": {},
   "outputs": [
    {
     "name": "stdout",
     "output_type": "stream",
     "text": [
      "         CALI       DT      GR    ILD   MSFL  NPHI_LS   RHOB  VSHALE     PHI  \\\n",
      "DEPTH                                                                          \n",
      "3338.0  8.617  123.625  88.812  1.006  1.292  0.48193  2.264  0.8678  0.2339   \n",
      "3338.5  8.562  116.875  79.500  1.182  1.258  0.46924  2.320  0.7119  0.2000   \n",
      "3339.0  8.594  100.000  68.562  1.417  1.250  0.37354  2.408  0.5289  0.1467   \n",
      "3339.5  8.492   83.938  51.500  1.742  1.430  0.21143  2.562  0.2433  0.0533   \n",
      "3340.0  8.297   65.750  33.844  2.174  7.311  0.13428  2.668 -0.0522 -0.0109   \n",
      "...       ...      ...     ...    ...    ...      ...    ...     ...     ...   \n",
      "3749.5  8.555  130.625  85.000  0.773  0.873  0.43115  2.184  0.8040  0.2824   \n",
      "3750.0  8.648  130.875  87.500  0.772  0.891  0.43164  2.170  0.8458  0.2909   \n",
      "3750.5  8.680  130.875  86.250  0.775  1.158  0.44092  2.178  0.8249  0.2861   \n",
      "3751.0  8.727  129.375  89.188  0.773  1.072  0.42285  2.184  0.8741  0.2824   \n",
      "3751.5  8.633  129.500  89.688  0.772  1.035  0.40430  2.191  0.8825  0.2782   \n",
      "\n",
      "              rw   SW  \n",
      "DEPTH                  \n",
      "3338.0  0.233650  1.0  \n",
      "3338.5  0.260260  1.0  \n",
      "3339.0  0.197717  1.0  \n",
      "3339.5  0.077872  1.0  \n",
      "3340.0  0.039200  1.0  \n",
      "...          ...  ...  \n",
      "3749.5  0.143693  1.0  \n",
      "3750.0  0.143834  1.0  \n",
      "3750.5  0.150668  1.0  \n",
      "3751.0  0.138214  1.0  \n",
      "3751.5  0.126190  1.0  \n",
      "\n",
      "[828 rows x 11 columns]\n"
     ]
    }
   ],
   "source": [
    "KujungFM['SW'] = sw_archie(KujungFM[\"NPHI_LS\"], KujungFM[\"ILD\"], KujungFM[\"rw\"], archieA, archieM, archieN)\n",
    "print(KujungFM)"
   ]
  },
  {
   "cell_type": "code",
   "execution_count": 129,
   "metadata": {},
   "outputs": [
    {
     "data": {
      "text/html": [
       "<div>\n",
       "<style scoped>\n",
       "    .dataframe tbody tr th:only-of-type {\n",
       "        vertical-align: middle;\n",
       "    }\n",
       "\n",
       "    .dataframe tbody tr th {\n",
       "        vertical-align: top;\n",
       "    }\n",
       "\n",
       "    .dataframe thead th {\n",
       "        text-align: right;\n",
       "    }\n",
       "</style>\n",
       "<table border=\"1\" class=\"dataframe\">\n",
       "  <thead>\n",
       "    <tr style=\"text-align: right;\">\n",
       "      <th></th>\n",
       "      <th>CALI</th>\n",
       "      <th>DT</th>\n",
       "      <th>GR</th>\n",
       "      <th>ILD</th>\n",
       "      <th>MSFL</th>\n",
       "      <th>NPHI_LS</th>\n",
       "      <th>RHOB</th>\n",
       "      <th>VSHALE</th>\n",
       "      <th>PHI</th>\n",
       "      <th>rw</th>\n",
       "      <th>SW</th>\n",
       "    </tr>\n",
       "  </thead>\n",
       "  <tbody>\n",
       "    <tr>\n",
       "      <th>count</th>\n",
       "      <td>828.000000</td>\n",
       "      <td>828.000000</td>\n",
       "      <td>828.000000</td>\n",
       "      <td>828.000000</td>\n",
       "      <td>828.000000</td>\n",
       "      <td>828.000000</td>\n",
       "      <td>828.000000</td>\n",
       "      <td>828.000000</td>\n",
       "      <td>828.000000</td>\n",
       "      <td>828.000000</td>\n",
       "      <td>8.280000e+02</td>\n",
       "    </tr>\n",
       "    <tr>\n",
       "      <th>mean</th>\n",
       "      <td>8.588909</td>\n",
       "      <td>118.736715</td>\n",
       "      <td>76.343841</td>\n",
       "      <td>1.109170</td>\n",
       "      <td>1.743801</td>\n",
       "      <td>0.381769</td>\n",
       "      <td>2.225851</td>\n",
       "      <td>0.659101</td>\n",
       "      <td>0.257057</td>\n",
       "      <td>0.154674</td>\n",
       "      <td>1.000000e+00</td>\n",
       "    </tr>\n",
       "    <tr>\n",
       "      <th>std</th>\n",
       "      <td>0.340040</td>\n",
       "      <td>12.152890</td>\n",
       "      <td>13.450552</td>\n",
       "      <td>0.408286</td>\n",
       "      <td>3.261412</td>\n",
       "      <td>0.053883</td>\n",
       "      <td>0.071534</td>\n",
       "      <td>0.225129</td>\n",
       "      <td>0.043354</td>\n",
       "      <td>0.032237</td>\n",
       "      <td>4.316309e-17</td>\n",
       "    </tr>\n",
       "    <tr>\n",
       "      <th>min</th>\n",
       "      <td>7.680000</td>\n",
       "      <td>57.625000</td>\n",
       "      <td>17.641000</td>\n",
       "      <td>0.563000</td>\n",
       "      <td>0.460000</td>\n",
       "      <td>0.119630</td>\n",
       "      <td>1.875000</td>\n",
       "      <td>-0.323400</td>\n",
       "      <td>-0.041800</td>\n",
       "      <td>0.039200</td>\n",
       "      <td>1.000000e+00</td>\n",
       "    </tr>\n",
       "    <tr>\n",
       "      <th>25%</th>\n",
       "      <td>8.344000</td>\n",
       "      <td>110.531000</td>\n",
       "      <td>69.188000</td>\n",
       "      <td>0.864750</td>\n",
       "      <td>1.119000</td>\n",
       "      <td>0.349120</td>\n",
       "      <td>2.188000</td>\n",
       "      <td>0.539300</td>\n",
       "      <td>0.238800</td>\n",
       "      <td>0.133070</td>\n",
       "      <td>1.000000e+00</td>\n",
       "    </tr>\n",
       "    <tr>\n",
       "      <th>50%</th>\n",
       "      <td>8.539000</td>\n",
       "      <td>119.375000</td>\n",
       "      <td>79.750000</td>\n",
       "      <td>1.061000</td>\n",
       "      <td>1.343500</td>\n",
       "      <td>0.387700</td>\n",
       "      <td>2.230000</td>\n",
       "      <td>0.716100</td>\n",
       "      <td>0.254500</td>\n",
       "      <td>0.152117</td>\n",
       "      <td>1.000000e+00</td>\n",
       "    </tr>\n",
       "    <tr>\n",
       "      <th>75%</th>\n",
       "      <td>8.758000</td>\n",
       "      <td>128.031250</td>\n",
       "      <td>85.453500</td>\n",
       "      <td>1.267250</td>\n",
       "      <td>1.583000</td>\n",
       "      <td>0.419920</td>\n",
       "      <td>2.256000</td>\n",
       "      <td>0.811575</td>\n",
       "      <td>0.280000</td>\n",
       "      <td>0.173003</td>\n",
       "      <td>1.000000e+00</td>\n",
       "    </tr>\n",
       "    <tr>\n",
       "      <th>max</th>\n",
       "      <td>10.422000</td>\n",
       "      <td>156.250000</td>\n",
       "      <td>101.188000</td>\n",
       "      <td>6.004000</td>\n",
       "      <td>42.829000</td>\n",
       "      <td>0.486330</td>\n",
       "      <td>2.719000</td>\n",
       "      <td>1.074900</td>\n",
       "      <td>0.469700</td>\n",
       "      <td>0.343277</td>\n",
       "      <td>1.000000e+00</td>\n",
       "    </tr>\n",
       "  </tbody>\n",
       "</table>\n",
       "</div>"
      ],
      "text/plain": [
       "             CALI          DT          GR         ILD        MSFL     NPHI_LS  \\\n",
       "count  828.000000  828.000000  828.000000  828.000000  828.000000  828.000000   \n",
       "mean     8.588909  118.736715   76.343841    1.109170    1.743801    0.381769   \n",
       "std      0.340040   12.152890   13.450552    0.408286    3.261412    0.053883   \n",
       "min      7.680000   57.625000   17.641000    0.563000    0.460000    0.119630   \n",
       "25%      8.344000  110.531000   69.188000    0.864750    1.119000    0.349120   \n",
       "50%      8.539000  119.375000   79.750000    1.061000    1.343500    0.387700   \n",
       "75%      8.758000  128.031250   85.453500    1.267250    1.583000    0.419920   \n",
       "max     10.422000  156.250000  101.188000    6.004000   42.829000    0.486330   \n",
       "\n",
       "             RHOB      VSHALE         PHI          rw            SW  \n",
       "count  828.000000  828.000000  828.000000  828.000000  8.280000e+02  \n",
       "mean     2.225851    0.659101    0.257057    0.154674  1.000000e+00  \n",
       "std      0.071534    0.225129    0.043354    0.032237  4.316309e-17  \n",
       "min      1.875000   -0.323400   -0.041800    0.039200  1.000000e+00  \n",
       "25%      2.188000    0.539300    0.238800    0.133070  1.000000e+00  \n",
       "50%      2.230000    0.716100    0.254500    0.152117  1.000000e+00  \n",
       "75%      2.256000    0.811575    0.280000    0.173003  1.000000e+00  \n",
       "max      2.719000    1.074900    0.469700    0.343277  1.000000e+00  "
      ]
     },
     "execution_count": 129,
     "metadata": {},
     "output_type": "execute_result"
    }
   ],
   "source": [
    "KujungFM.describe()"
   ]
  },
  {
   "cell_type": "markdown",
   "metadata": {},
   "source": [
    "## Data Handling"
   ]
  },
  {
   "cell_type": "markdown",
   "metadata": {},
   "source": [
    "- ***explore the statistical information of the SW and RW log***\n",
    "- ***compare the mean and the standard deviation of each log from the pandas result***\n",
    "- ***visualize using histogram, boxplot, etc***"
   ]
  },
  {
   "cell_type": "code",
   "execution_count": 130,
   "metadata": {},
   "outputs": [],
   "source": [
    "import pandas as pd\n",
    "\n"
   ]
  },
  {
   "cell_type": "code",
   "execution_count": 131,
   "metadata": {},
   "outputs": [
    {
     "name": "stdout",
     "output_type": "stream",
     "text": [
      "mean for all variables in KujungFM: \n",
      "CALI         8.588909\n",
      "DT         118.736715\n",
      "GR          76.343841\n",
      "ILD          1.109170\n",
      "MSFL         1.743801\n",
      "NPHI_LS      0.381769\n",
      "RHOB         2.225851\n",
      "VSHALE       0.659101\n",
      "PHI          0.257057\n",
      "rw           0.154674\n",
      "SW           1.000000\n",
      "dtype: float64\n",
      "\n",
      "median for all variables in KujungFM: \n",
      "CALI         8.539000\n",
      "DT         119.375000\n",
      "GR          79.750000\n",
      "ILD          1.061000\n",
      "MSFL         1.343500\n",
      "NPHI_LS      0.387700\n",
      "RHOB         2.230000\n",
      "VSHALE       0.716100\n",
      "PHI          0.254500\n",
      "rw           0.152117\n",
      "SW           1.000000\n",
      "dtype: float64\n"
     ]
    }
   ],
   "source": [
    "print ('mean for all variables in KujungFM: \\n' + str(KujungFM.mean())+'\\n')\n",
    "print ('median for all variables in KujungFM: \\n' + str(KujungFM.median()))"
   ]
  },
  {
   "cell_type": "code",
   "execution_count": 133,
   "metadata": {},
   "outputs": [
    {
     "name": "stdout",
     "output_type": "stream",
     "text": [
      "range for all variables in KujungFM: \n",
      "CALI       2.742000e+00\n",
      "DT         9.862500e+01\n",
      "GR         8.354700e+01\n",
      "ILD        5.441000e+00\n",
      "MSFL       4.236900e+01\n",
      "NPHI_LS    3.667000e-01\n",
      "RHOB       8.440000e-01\n",
      "VSHALE     1.398300e+00\n",
      "PHI        5.115000e-01\n",
      "rw         3.040771e-01\n",
      "SW         1.110223e-16\n",
      "dtype: float64\n",
      "\n",
      "variance for all variables in KujungFM: \n",
      "CALI       1.156269e-01\n",
      "DT         1.476927e+02\n",
      "GR         1.809174e+02\n",
      "ILD        1.666978e-01\n",
      "MSFL       1.063681e+01\n",
      "NPHI_LS    2.903326e-03\n",
      "RHOB       5.117104e-03\n",
      "VSHALE     5.068322e-02\n",
      "PHI        1.879568e-03\n",
      "rw         1.039209e-03\n",
      "SW         1.863052e-33\n",
      "dtype: float64\n",
      "\n",
      "standard deviation for all variables in KujungFM: \n",
      "CALI       3.400395e-01\n",
      "DT         1.215289e+01\n",
      "GR         1.345055e+01\n",
      "ILD        4.082864e-01\n",
      "MSFL       3.261412e+00\n",
      "NPHI_LS    5.388252e-02\n",
      "RHOB       7.153393e-02\n",
      "VSHALE     2.251293e-01\n",
      "PHI        4.335398e-02\n",
      "rw         3.223677e-02\n",
      "SW         4.316309e-17\n",
      "dtype: float64\n"
     ]
    }
   ],
   "source": [
    "print ('range for all variables in KujungFM: \\n' + str(KujungFM.max()-KujungFM.min())+'\\n')\n",
    "print ('variance for all variables in KujungFM: \\n' + str(KujungFM.var())+'\\n')\n",
    "print ('standard deviation for all variables in KujungFM: \\n'+ str(KujungFM.std()))"
   ]
  },
  {
   "cell_type": "code",
   "execution_count": 134,
   "metadata": {},
   "outputs": [
    {
     "name": "stdout",
     "output_type": "stream",
     "text": [
      "             CALI          DT          GR         ILD        MSFL     NPHI_LS  \\\n",
      "count  828.000000  828.000000  828.000000  828.000000  828.000000  828.000000   \n",
      "mean     8.588909  118.736715   76.343841    1.109170    1.743801    0.381769   \n",
      "std      0.340040   12.152890   13.450552    0.408286    3.261412    0.053883   \n",
      "min      7.680000   57.625000   17.641000    0.563000    0.460000    0.119630   \n",
      "25%      8.344000  110.531000   69.188000    0.864750    1.119000    0.349120   \n",
      "50%      8.539000  119.375000   79.750000    1.061000    1.343500    0.387700   \n",
      "75%      8.758000  128.031250   85.453500    1.267250    1.583000    0.419920   \n",
      "max     10.422000  156.250000  101.188000    6.004000   42.829000    0.486330   \n",
      "\n",
      "             RHOB      VSHALE         PHI          rw            SW  \n",
      "count  828.000000  828.000000  828.000000  828.000000  8.280000e+02  \n",
      "mean     2.225851    0.659101    0.257057    0.154674  1.000000e+00  \n",
      "std      0.071534    0.225129    0.043354    0.032237  4.316309e-17  \n",
      "min      1.875000   -0.323400   -0.041800    0.039200  1.000000e+00  \n",
      "25%      2.188000    0.539300    0.238800    0.133070  1.000000e+00  \n",
      "50%      2.230000    0.716100    0.254500    0.152117  1.000000e+00  \n",
      "75%      2.256000    0.811575    0.280000    0.173003  1.000000e+00  \n",
      "max      2.719000    1.074900    0.469700    0.343277  1.000000e+00  \n"
     ]
    }
   ],
   "source": [
    "print(KujungFM.describe())"
   ]
  },
  {
   "cell_type": "code",
   "execution_count": 135,
   "metadata": {},
   "outputs": [],
   "source": [
    "import matplotlib.pyplot as plt\n",
    "\n",
    "import seaborn as sns"
   ]
  },
  {
   "cell_type": "code",
   "execution_count": 136,
   "metadata": {},
   "outputs": [
    {
     "data": {
      "image/png": "[encoded data removed]",
      "text/plain": [
       "<Figure size 432x288 with 1 Axes>"
      ]
     },
     "metadata": {
      "needs_background": "light"
     },
     "output_type": "display_data"
    }
   ],
   "source": [
    "sns.boxplot(KujungFM[\"CALI\"])\n",
    "plt.show()"
   ]
  },
  {
   "cell_type": "code",
   "execution_count": 137,
   "metadata": {},
   "outputs": [
    {
     "data": {
      "image/png": "[encoded data removed]",
      "text/plain": [
       "<Figure size 432x288 with 1 Axes>"
      ]
     },
     "metadata": {
      "needs_background": "light"
     },
     "output_type": "display_data"
    }
   ],
   "source": [
    "sns.boxplot(KujungFM[\"SW\"])\n",
    "plt.show()"
   ]
  },
  {
   "cell_type": "code",
   "execution_count": 138,
   "metadata": {},
   "outputs": [
    {
     "data": {
      "image/png": "[encoded data removed]",
      "text/plain": [
       "<Figure size 432x288 with 1 Axes>"
      ]
     },
     "metadata": {
      "needs_background": "light"
     },
     "output_type": "display_data"
    }
   ],
   "source": [
    "sns.boxplot(KujungFM[\"GR\"])\n",
    "plt.show()"
   ]
  },
  {
   "cell_type": "code",
   "execution_count": 139,
   "metadata": {},
   "outputs": [
    {
     "name": "stdout",
     "output_type": "stream",
     "text": [
      "         CALI       DT      GR    ILD   MSFL  NPHI_LS   RHOB  VSHALE     PHI  \\\n",
      "DEPTH                                                                          \n",
      "3338.0  8.617  123.625  88.812  1.006  1.292  0.48193  2.264  0.8678  0.2339   \n",
      "3338.5  8.562  116.875  79.500  1.182  1.258  0.46924  2.320  0.7119  0.2000   \n",
      "3339.0  8.594  100.000  68.562  1.417  1.250  0.37354  2.408  0.5289  0.1467   \n",
      "3339.5  8.492   83.938  51.500  1.742  1.430  0.21143  2.562  0.2433  0.0533   \n",
      "3340.0  8.297   65.750  33.844  2.174  7.311  0.13428  2.668 -0.0522 -0.0109   \n",
      "...       ...      ...     ...    ...    ...      ...    ...     ...     ...   \n",
      "3749.5  8.555  130.625  85.000  0.773  0.873  0.43115  2.184  0.8040  0.2824   \n",
      "3750.0  8.648  130.875  87.500  0.772  0.891  0.43164  2.170  0.8458  0.2909   \n",
      "3750.5  8.680  130.875  86.250  0.775  1.158  0.44092  2.178  0.8249  0.2861   \n",
      "3751.0  8.727  129.375  89.188  0.773  1.072  0.42285  2.184  0.8741  0.2824   \n",
      "3751.5  8.633  129.500  89.688  0.772  1.035  0.40430  2.191  0.8825  0.2782   \n",
      "\n",
      "              rw   SW  \n",
      "DEPTH                  \n",
      "3338.0  0.233650  1.0  \n",
      "3338.5  0.260260  1.0  \n",
      "3339.0  0.197717  1.0  \n",
      "3339.5  0.077872  1.0  \n",
      "3340.0  0.039200  1.0  \n",
      "...          ...  ...  \n",
      "3749.5  0.143693  1.0  \n",
      "3750.0  0.143834  1.0  \n",
      "3750.5  0.150668  1.0  \n",
      "3751.0  0.138214  1.0  \n",
      "3751.5  0.126190  1.0  \n",
      "\n",
      "[828 rows x 11 columns]\n"
     ]
    }
   ],
   "source": [
    "print(KujungFM)"
   ]
  },
  {
   "cell_type": "code",
   "execution_count": 140,
   "metadata": {},
   "outputs": [
    {
     "data": {
      "image/png": "[encoded data removed]",
      "text/plain": [
       "<Figure size 432x288 with 1 Axes>"
      ]
     },
     "metadata": {
      "needs_background": "light"
     },
     "output_type": "display_data"
    }
   ],
   "source": [
    "sns. distplot(KujungFM[ 'GR' ], bins=7)\n",
    "plt. show()"
   ]
  },
  {
   "cell_type": "code",
   "execution_count": 141,
   "metadata": {},
   "outputs": [
    {
     "data": {
      "image/png": "[encoded data removed]",
      "text/plain": [
       "<Figure size 432x288 with 1 Axes>"
      ]
     },
     "metadata": {
      "needs_background": "light"
     },
     "output_type": "display_data"
    }
   ],
   "source": [
    "sns. distplot(KujungFM[ 'rw' ], bins=7)\n",
    "plt. show()"
   ]
  },
  {
   "cell_type": "code",
   "execution_count": 142,
   "metadata": {},
   "outputs": [
    {
     "data": {
      "image/png": "[encoded data removed]",
      "text/plain": [
       "<Figure size 432x288 with 1 Axes>"
      ]
     },
     "metadata": {
      "needs_background": "light"
     },
     "output_type": "display_data"
    }
   ],
   "source": [
    "sns. distplot(KujungFM[ 'VSHALE' ], bins=7)\n",
    "plt. show()"
   ]
  },
  {
   "cell_type": "code",
   "execution_count": 143,
   "metadata": {},
   "outputs": [],
   "source": [
    "KujungFM = pd.read_csv('partsol_basicml.csv')\n"
   ]
  },
  {
   "cell_type": "code",
   "execution_count": 144,
   "metadata": {},
   "outputs": [
    {
     "data": {
      "text/html": [
       "<div>\n",
       "<style scoped>\n",
       "    .dataframe tbody tr th:only-of-type {\n",
       "        vertical-align: middle;\n",
       "    }\n",
       "\n",
       "    .dataframe tbody tr th {\n",
       "        vertical-align: top;\n",
       "    }\n",
       "\n",
       "    .dataframe thead th {\n",
       "        text-align: right;\n",
       "    }\n",
       "</style>\n",
       "<table border=\"1\" class=\"dataframe\">\n",
       "  <thead>\n",
       "    <tr style=\"text-align: right;\">\n",
       "      <th></th>\n",
       "      <th>X1</th>\n",
       "      <th>X2</th>\n",
       "      <th>X3</th>\n",
       "      <th>X4</th>\n",
       "      <th>Y1</th>\n",
       "    </tr>\n",
       "  </thead>\n",
       "  <tbody>\n",
       "    <tr>\n",
       "      <th>0</th>\n",
       "      <td>514.5</td>\n",
       "      <td>294.0</td>\n",
       "      <td>110.25</td>\n",
       "      <td>15.55</td>\n",
       "      <td>21.33</td>\n",
       "    </tr>\n",
       "    <tr>\n",
       "      <th>1</th>\n",
       "      <td>514.5</td>\n",
       "      <td>294.0</td>\n",
       "      <td>110.25</td>\n",
       "      <td>15.55</td>\n",
       "      <td>21.33</td>\n",
       "    </tr>\n",
       "    <tr>\n",
       "      <th>2</th>\n",
       "      <td>514.5</td>\n",
       "      <td>294.0</td>\n",
       "      <td>110.25</td>\n",
       "      <td>15.55</td>\n",
       "      <td>21.33</td>\n",
       "    </tr>\n",
       "    <tr>\n",
       "      <th>3</th>\n",
       "      <td>514.5</td>\n",
       "      <td>294.0</td>\n",
       "      <td>110.25</td>\n",
       "      <td>15.55</td>\n",
       "      <td>21.33</td>\n",
       "    </tr>\n",
       "    <tr>\n",
       "      <th>4</th>\n",
       "      <td>563.5</td>\n",
       "      <td>318.5</td>\n",
       "      <td>122.50</td>\n",
       "      <td>20.84</td>\n",
       "      <td>28.28</td>\n",
       "    </tr>\n",
       "  </tbody>\n",
       "</table>\n",
       "</div>"
      ],
      "text/plain": [
       "      X1     X2      X3     X4     Y1\n",
       "0  514.5  294.0  110.25  15.55  21.33\n",
       "1  514.5  294.0  110.25  15.55  21.33\n",
       "2  514.5  294.0  110.25  15.55  21.33\n",
       "3  514.5  294.0  110.25  15.55  21.33\n",
       "4  563.5  318.5  122.50  20.84  28.28"
      ]
     },
     "execution_count": 144,
     "metadata": {},
     "output_type": "execute_result"
    }
   ],
   "source": [
    "KujungFM.head()"
   ]
  },
  {
   "cell_type": "code",
   "execution_count": 145,
   "metadata": {},
   "outputs": [
    {
     "data": {
      "text/plain": [
       "LinearRegression()"
      ]
     },
     "execution_count": 145,
     "metadata": {},
     "output_type": "execute_result"
    }
   ],
   "source": [
    "X = KujungFM[['X1','X2','X3','X4']]\n",
    "y = KujungFM['Y1']\n",
    "\n",
    "from sklearn import linear_model\n",
    "reg = linear_model.LinearRegression()\n",
    "reg.fit(X, y)"
   ]
  },
  {
   "cell_type": "code",
   "execution_count": 146,
   "metadata": {},
   "outputs": [],
   "source": [
    "KujungFM['Ypred'] = reg.predict(X)"
   ]
  },
  {
   "cell_type": "code",
   "execution_count": 147,
   "metadata": {},
   "outputs": [
    {
     "data": {
      "text/html": [
       "<div>\n",
       "<style scoped>\n",
       "    .dataframe tbody tr th:only-of-type {\n",
       "        vertical-align: middle;\n",
       "    }\n",
       "\n",
       "    .dataframe tbody tr th {\n",
       "        vertical-align: top;\n",
       "    }\n",
       "\n",
       "    .dataframe thead th {\n",
       "        text-align: right;\n",
       "    }\n",
       "</style>\n",
       "<table border=\"1\" class=\"dataframe\">\n",
       "  <thead>\n",
       "    <tr style=\"text-align: right;\">\n",
       "      <th></th>\n",
       "      <th>X1</th>\n",
       "      <th>X2</th>\n",
       "      <th>X3</th>\n",
       "      <th>X4</th>\n",
       "      <th>Y1</th>\n",
       "      <th>Ypred</th>\n",
       "    </tr>\n",
       "  </thead>\n",
       "  <tbody>\n",
       "    <tr>\n",
       "      <th>0</th>\n",
       "      <td>514.5</td>\n",
       "      <td>294.0</td>\n",
       "      <td>110.25</td>\n",
       "      <td>15.55</td>\n",
       "      <td>21.33</td>\n",
       "      <td>19.952873</td>\n",
       "    </tr>\n",
       "    <tr>\n",
       "      <th>1</th>\n",
       "      <td>514.5</td>\n",
       "      <td>294.0</td>\n",
       "      <td>110.25</td>\n",
       "      <td>15.55</td>\n",
       "      <td>21.33</td>\n",
       "      <td>19.952873</td>\n",
       "    </tr>\n",
       "    <tr>\n",
       "      <th>2</th>\n",
       "      <td>514.5</td>\n",
       "      <td>294.0</td>\n",
       "      <td>110.25</td>\n",
       "      <td>15.55</td>\n",
       "      <td>21.33</td>\n",
       "      <td>19.952873</td>\n",
       "    </tr>\n",
       "    <tr>\n",
       "      <th>3</th>\n",
       "      <td>514.5</td>\n",
       "      <td>294.0</td>\n",
       "      <td>110.25</td>\n",
       "      <td>15.55</td>\n",
       "      <td>21.33</td>\n",
       "      <td>19.952873</td>\n",
       "    </tr>\n",
       "    <tr>\n",
       "      <th>4</th>\n",
       "      <td>563.5</td>\n",
       "      <td>318.5</td>\n",
       "      <td>122.50</td>\n",
       "      <td>20.84</td>\n",
       "      <td>28.28</td>\n",
       "      <td>24.246169</td>\n",
       "    </tr>\n",
       "  </tbody>\n",
       "</table>\n",
       "</div>"
      ],
      "text/plain": [
       "      X1     X2      X3     X4     Y1      Ypred\n",
       "0  514.5  294.0  110.25  15.55  21.33  19.952873\n",
       "1  514.5  294.0  110.25  15.55  21.33  19.952873\n",
       "2  514.5  294.0  110.25  15.55  21.33  19.952873\n",
       "3  514.5  294.0  110.25  15.55  21.33  19.952873\n",
       "4  563.5  318.5  122.50  20.84  28.28  24.246169"
      ]
     },
     "execution_count": 147,
     "metadata": {},
     "output_type": "execute_result"
    }
   ],
   "source": [
    "KujungFM.head()"
   ]
  },
  {
   "cell_type": "code",
   "execution_count": 148,
   "metadata": {},
   "outputs": [
    {
     "data": {
      "image/png": "[encoded data removed]",
      "text/plain": [
       "<Figure size 432x288 with 1 Axes>"
      ]
     },
     "metadata": {
      "needs_background": "light"
     },
     "output_type": "display_data"
    }
   ],
   "source": [
    "plt.figure()\n",
    "plt.scatter(KujungFM.X4,KujungFM.Y1)\n",
    "plt.show()"
   ]
  },
  {
   "cell_type": "code",
   "execution_count": 149,
   "metadata": {},
   "outputs": [],
   "source": [
    "from sklearn.cluster import KMeans\n",
    "clus = KujungFM[['X4','Y1']]\n",
    "kmeans = KMeans(n_clusters=3, random_state=0).fit(clus)\n",
    "KujungFM[\"clusters\"]=kmeans.labels_"
   ]
  },
  {
   "cell_type": "code",
   "execution_count": 150,
   "metadata": {},
   "outputs": [
    {
     "data": {
      "image/png": "[encoded data removed]",
      "text/plain": [
       "<Figure size 432x288 with 2 Axes>"
      ]
     },
     "metadata": {
      "needs_background": "light"
     },
     "output_type": "display_data"
    }
   ],
   "source": [
    "plt.figure()\n",
    "plt.scatter(KujungFM.X4, KujungFM.Y1, c=KujungFM.clusters)\n",
    "plt.colorbar()\n",
    "plt.show()"
   ]
  },
  {
   "cell_type": "code",
   "execution_count": 151,
   "metadata": {},
   "outputs": [
    {
     "name": "stdout",
     "output_type": "stream",
     "text": [
      "        X1     X2     X3     X4     Y1      Ypred  clusters\n",
      "4    563.5  318.5  122.5  20.84  28.28  24.246169         2\n",
      "5    563.5  318.5  122.5  21.46  25.38  24.780574         2\n",
      "6    563.5  318.5  122.5  20.71  25.16  24.134116         2\n",
      "7    563.5  318.5  122.5  19.68  29.60  23.246314         2\n",
      "8    588.0  294.0  147.0  19.50  27.30  22.761513         2\n",
      "..     ...    ...    ...    ...    ...        ...       ...\n",
      "729  588.0  294.0  147.0  31.81  31.20  33.372044         2\n",
      "732  612.5  318.5  147.0  30.00  29.93  31.718175         2\n",
      "733  612.5  318.5  147.0  29.50  29.56  31.287203         2\n",
      "734  612.5  318.5  147.0  29.06  33.84  30.907948         2\n",
      "735  612.5  318.5  147.0  29.92  32.54  31.649220         2\n",
      "\n",
      "[184 rows x 7 columns]\n"
     ]
    }
   ],
   "source": [
    "print(KujungFM[ KujungFM[ 'clusters' ] ==2])"
   ]
  },
  {
   "cell_type": "code",
   "execution_count": 152,
   "metadata": {},
   "outputs": [
    {
     "name": "stdout",
     "output_type": "stream",
     "text": [
      "[1 2 0]\n"
     ]
    }
   ],
   "source": [
    "print(KujungFM. clusters. unique())"
   ]
  },
  {
   "cell_type": "code",
   "execution_count": 153,
   "metadata": {},
   "outputs": [],
   "source": [
    "#inertia score determination\n",
    "score = []\n",
    "for k in range(2, 10):\n",
    "    kmeans = KMeans(n_clusters=k)\n",
    "    kmeans.fit_predict(clus)\n",
    "    score.append(kmeans.inertia_) # average of distance between points in one cluster"
   ]
  },
  {
   "cell_type": "code",
   "execution_count": 154,
   "metadata": {},
   "outputs": [
    {
     "data": {
      "image/png": "[encoded data removed]",
      "text/plain": [
       "<Figure size 432x288 with 1 Axes>"
      ]
     },
     "metadata": {
      "needs_background": "light"
     },
     "output_type": "display_data"
    }
   ],
   "source": [
    "import numpy as np\n",
    "#plotting elbow method\n",
    "\n",
    "plt.figure()\n",
    "plt.plot(np.arange(2,10), score)\n",
    "plt.scatter(np.arange(2,10), score)\n",
    "plt.xlabel(\"k-Cluster\")\n",
    "plt.ylabel(\"Inertia Score\")\n",
    "plt.show()"
   ]
  },
  {
   "cell_type": "code",
   "execution_count": 155,
   "metadata": {},
   "outputs": [
    {
     "name": "stdout",
     "output_type": "stream",
     "text": [
      "          DEPT         GR     RHOB          VP  FACIES\n",
      "0    4940.0460  150.07190  2.72833  3820.24268       1\n",
      "1    4940.1984  153.27740  2.72637  3798.05396       1\n",
      "2    4940.3508  155.58180  2.72202  3775.34277       1\n",
      "3    4940.5032  155.97696  2.72029  3764.78662       1\n",
      "4    4940.6556  153.99037  2.72137  3766.25977       1\n",
      "..         ...        ...      ...         ...     ...\n",
      "455  5009.3880   13.87138  2.48817  4883.83447       0\n",
      "456  5009.5404   13.30794  2.48556  4878.48975       0\n",
      "457  5009.6928   12.32699  2.48054  4870.06494       0\n",
      "458  5009.8452   11.63948  2.47144  4847.33887       0\n",
      "459  5009.9976   11.40202  2.46054  4809.12109       0\n",
      "\n",
      "[460 rows x 5 columns]\n",
      "          DEPT        GR     RHOB          VP\n",
      "0    4400.0928  51.31930  2.41280  4843.46362\n",
      "1    4400.2452  51.53658  2.43140  4860.34131\n",
      "2    4400.3976  48.50318  2.44562  4874.98633\n",
      "3    4400.5500  42.97136  2.44510  4888.49072\n",
      "4    4400.7024  36.64860  2.42774  4920.08203\n",
      "..         ...       ...      ...         ...\n",
      "520  4479.3408  96.83217  2.56725  4074.19165\n",
      "521  4479.4932  95.38441  2.56478  4064.13892\n",
      "522  4479.6456  95.31112  2.55866  4041.96680\n",
      "523  4479.7980  96.32029  2.55041  4016.57104\n",
      "524  4479.9504  98.59708  2.54491  3996.66406\n",
      "\n",
      "[525 rows x 4 columns]\n"
     ]
    }
   ],
   "source": [
    "import warnings\n",
    "warnings.filterwarnings('ignore')\n",
    "\n",
    "#Load well train\n",
    "import pandas as pd\n",
    "KujungFM = pd.read_csv('well_train.csv') #load data from CSV\n",
    "print(KujungFM)\n",
    "\n",
    "#load testing well\n",
    "KujungFM_target = pd.read_csv('well_test.csv')\n",
    "X_test = KujungFM_target\n",
    "print(X_test)\n"
   ]
  },
  {
   "cell_type": "code",
   "execution_count": 156,
   "metadata": {},
   "outputs": [
    {
     "data": {
      "image/png": "[encoded data removed]",
      "text/plain": [
       "<Figure size 432x288 with 4 Axes>"
      ]
     },
     "metadata": {
      "needs_background": "light"
     },
     "output_type": "display_data"
    }
   ],
   "source": [
    "#create well log data plot function\n",
    "\n",
    "import matplotlib.colors as colors\n",
    "facies_colors = ['yellow','green'] #yellow and green color\n",
    "cmap_facies = colors.ListedColormap(facies_colors) #make color into colormap\n",
    "\n",
    "import matplotlib.pyplot as plt\n",
    "\n",
    "import numpy as np\n",
    "\n",
    "#menentukan top dan bottom dari DEPTH\n",
    "top=KujungFM['DEPT'].max()\n",
    "bot=KujungFM['DEPT'].min()\n",
    "\n",
    "#plotting\n",
    "plt.figure()\n",
    "plt.subplot(1,4,1)\n",
    "plt.plot(KujungFM.RHOB, KujungFM.DEPT, color='b')\n",
    "plt.ylim(top,bot) #menentukan batas bawah dan batas atas (dibalik)\n",
    "plt.grid()\n",
    "plt.xlabel(\"Density (g/cc)\")\n",
    "plt.ylabel('Depth (m)')\n",
    "plt.xlim(KujungFM.RHOB.min(), KujungFM.RHOB.max()) #menentukan limit RHOB\n",
    "\n",
    "plt.subplot(1,4,2)\n",
    "plt.plot(KujungFM.GR, KujungFM.DEPT, color='b')\n",
    "plt.gca().axes.yaxis.set_ticklabels([]) #menghilangkan angka pada y-axis\n",
    "plt.ylim(top,bot)\n",
    "plt.grid()\n",
    "plt.xlabel(\"Gamma Ray\")\n",
    "plt.xlim(KujungFM.GR.min(), KujungFM.GR.max())\n",
    "plt.subplot(1,4,3)\n",
    "plt.plot(KujungFM.VP, KujungFM.DEPT, color='b')\n",
    "plt.gca().axes.yaxis.set_ticklabels([])\n",
    "plt.ylim(top,bot)\n",
    "plt.grid()\n",
    "plt.xlabel(\"Vp (m/s)\")\n",
    "plt.xlim(KujungFM.VP.min(), KujungFM.VP.max())\n",
    "\n",
    "plt.subplot(1,4,4)\n",
    "C = np.stack((KujungFM.FACIES, KujungFM.FACIES),axis=1)\n",
    "#membuat matriks dengan 2 kolom\n",
    "plt.imshow(C, aspect='auto',extent=[0,1,top,bot],cmap = cmap_facies)\n",
    "#visualisasi image (bukan plot) dari matrix\n",
    "plt.gca().axes.yaxis.set_ticklabels([])\n",
    "plt.xlabel('facies')\n",
    "plt.ylim(top,bot)\n",
    "\n",
    "plt.show()\n"
   ]
  },
  {
   "cell_type": "code",
   "execution_count": 157,
   "metadata": {},
   "outputs": [
    {
     "name": "stdout",
     "output_type": "stream",
     "text": [
      "            GR     RHOB          VP\n",
      "0    150.07190  2.72833  3820.24268\n",
      "1    153.27740  2.72637  3798.05396\n",
      "2    155.58180  2.72202  3775.34277\n",
      "3    155.97696  2.72029  3764.78662\n",
      "4    153.99037  2.72137  3766.25977\n",
      "..         ...      ...         ...\n",
      "455   13.87138  2.48817  4883.83447\n",
      "456   13.30794  2.48556  4878.48975\n",
      "457   12.32699  2.48054  4870.06494\n",
      "458   11.63948  2.47144  4847.33887\n",
      "459   11.40202  2.46054  4809.12109\n",
      "\n",
      "[460 rows x 3 columns]\n",
      "0      1\n",
      "1      1\n",
      "2      1\n",
      "3      1\n",
      "4      1\n",
      "      ..\n",
      "455    0\n",
      "456    0\n",
      "457    0\n",
      "458    0\n",
      "459    0\n",
      "Name: FACIES, Length: 460, dtype: int64\n"
     ]
    }
   ],
   "source": [
    "#Split X (predictor) and Y (target)\n",
    "\n",
    "\n",
    "X = KujungFM.drop(['DEPT','FACIES'],axis = 1)\n",
    "y = KujungFM['FACIES']\n",
    "print(X)\n",
    "print(y)"
   ]
  },
  {
   "cell_type": "code",
   "execution_count": 158,
   "metadata": {},
   "outputs": [
    {
     "name": "stdout",
     "output_type": "stream",
     "text": [
      "shale on training data is 23 percent\n",
      "shale on validation data is 23 percent\n"
     ]
    }
   ],
   "source": [
    "#train and test splitting\n",
    "from sklearn.model_selection import train_test_split\n",
    "X_train, X_val, y_train, y_val= train_test_split(X,y, test_size=0.2,  stratify = y, random_state=10)\n",
    "\n",
    "#stratify y (the proportion of each facies in train and validation data must be the same)\n",
    "shale_train = int(len(y_train[y_train==1])/len(y_train)*100)\n",
    "\n",
    "shale_val = int(len(y_val[y_val==1])/len(y_val)*100)\n",
    "\n",
    "print('shale on training data is ' + str(shale_train) + ' percent')\n",
    "print('shale on validation data is ' + str(shale_val) + ' percent')"
   ]
  },
  {
   "cell_type": "code",
   "execution_count": 159,
   "metadata": {},
   "outputs": [],
   "source": [
    "#Decision Tree Classifier\n",
    "from sklearn import tree\n",
    "dtc = tree.DecisionTreeClassifier() #assign model\n",
    "\n",
    "#fit and predict to train and validation data\n",
    "dtc.fit(X_train, y_train) #fit model to training data\n",
    "y_pred_train = dtc.predict(X_train) #predict model to training data\n",
    "y_pred_val = dtc.predict(X_val) #predict model to testing data\n"
   ]
  },
  {
   "cell_type": "code",
   "execution_count": 160,
   "metadata": {},
   "outputs": [
    {
     "name": "stdout",
     "output_type": "stream",
     "text": [
      "              precision    recall  f1-score   support\n",
      "\n",
      "           0       1.00      1.00      1.00       281\n",
      "           1       1.00      1.00      1.00        87\n",
      "\n",
      "    accuracy                           1.00       368\n",
      "   macro avg       1.00      1.00      1.00       368\n",
      "weighted avg       1.00      1.00      1.00       368\n",
      "\n",
      "              precision    recall  f1-score   support\n",
      "\n",
      "           0       1.00      1.00      1.00        70\n",
      "           1       1.00      1.00      1.00        22\n",
      "\n",
      "    accuracy                           1.00        92\n",
      "   macro avg       1.00      1.00      1.00        92\n",
      "weighted avg       1.00      1.00      1.00        92\n",
      "\n"
     ]
    }
   ],
   "source": [
    "#performance evaluation\n",
    "from sklearn.metrics import classification_report\n",
    "print(classification_report(y_train,y_pred_train))\n",
    "print(classification_report(y_val,y_pred_val))"
   ]
  },
  {
   "cell_type": "code",
   "execution_count": 161,
   "metadata": {},
   "outputs": [
    {
     "name": "stdout",
     "output_type": "stream",
     "text": [
      "           GR     RHOB          VP\n",
      "0    51.31930  2.41280  4843.46362\n",
      "1    51.53658  2.43140  4860.34131\n",
      "2    48.50318  2.44562  4874.98633\n",
      "3    42.97136  2.44510  4888.49072\n",
      "4    36.64860  2.42774  4920.08203\n",
      "..        ...      ...         ...\n",
      "520  96.83217  2.56725  4074.19165\n",
      "521  95.38441  2.56478  4064.13892\n",
      "522  95.31112  2.55866  4041.96680\n",
      "523  96.32029  2.55041  4016.57104\n",
      "524  98.59708  2.54491  3996.66406\n",
      "\n",
      "[525 rows x 3 columns]\n",
      "          DEPT        GR     RHOB          VP  FACIES\n",
      "0    4400.0928  51.31930  2.41280  4843.46362       0\n",
      "1    4400.2452  51.53658  2.43140  4860.34131       0\n",
      "2    4400.3976  48.50318  2.44562  4874.98633       0\n",
      "3    4400.5500  42.97136  2.44510  4888.49072       0\n",
      "4    4400.7024  36.64860  2.42774  4920.08203       0\n",
      "..         ...       ...      ...         ...     ...\n",
      "520  4479.3408  96.83217  2.56725  4074.19165       1\n",
      "521  4479.4932  95.38441  2.56478  4064.13892       1\n",
      "522  4479.6456  95.31112  2.55866  4041.96680       1\n",
      "523  4479.7980  96.32029  2.55041  4016.57104       1\n",
      "524  4479.9504  98.59708  2.54491  3996.66406       1\n",
      "\n",
      "[525 rows x 5 columns]\n"
     ]
    }
   ],
   "source": [
    "#define predictor for well test\n",
    "X_test = KujungFM_target.drop(['DEPT'],axis = 1)\n",
    "print(X_test)\n",
    "y_pred_test = dtc.predict(X_test) #predict model to testing data\n",
    "\n",
    "#assign prediksi fasies ke dataframe\n",
    "KujungFM_target['FACIES'] = y_pred_test\n",
    "print(KujungFM_target)\n"
   ]
  },
  {
   "cell_type": "code",
   "execution_count": 162,
   "metadata": {},
   "outputs": [],
   "source": [
    "import matplotlib.colors as colors\n",
    "facies_colors = ['yellow','green'] #yellow and green color\n",
    "cmap_facies = colors.ListedColormap(facies_colors) #make color into colormap\n",
    "\n",
    "def wellplot(df):\n",
    "    #menentukan top dan bottom dari DEPTH\n",
    "    top=KujungFM['DEPT'].max()\n",
    "    bot=KujungFM['DEPT'].min()\n",
    "\n",
    "    #plotting\n",
    "\n",
    "    plt.figure()\n",
    "    plt.subplot(1,4,1)\n",
    "    plt.plot(KujungFM.RHOB, KujungFM.DEPT, color='b')\n",
    "    plt.ylim(top,bot) #menentukan batas bawah dan batas atas (dibalik)\n",
    "    plt.grid()\n",
    "    plt.xlabel(\"Density (g/cc)\")\n",
    "    plt.ylabel('Depth (m)')\n",
    "    plt.xlim(KujungFM.RHOB.min(),KujungFM.RHOB.max()) #menentukan limit RHOB\n",
    "    plt.subplot(1,4,2)\n",
    "    plt.plot(KujungFM.GR, KujungFM.DEPT, color='b')\n",
    "    plt.gca().axes.yaxis.set_ticklabels([]) #menghilangkan angka pada y-axis\n",
    "    plt.ylim(top,bot)\n",
    "    plt.grid()\n",
    "    plt.xlabel(\"Gamma Ray\")\n",
    "    plt.xlim(KujungFM.GR.min(),KujungFM.GR.max())\n",
    "\n",
    "    plt.subplot(1,4,3)\n",
    "    plt.plot(KujungFM.VP, KujungFM.DEPT, color='b')\n",
    "    plt.gca().axes.yaxis.set_ticklabels([])\n",
    "    plt.ylim(top,bot)\n",
    "    plt.grid()\n",
    "    plt.xlabel(\"Vp (m/s)\")\n",
    "    plt.xlim(KujungFM.VP.min(),KujungFM.VP.max())\n",
    "\n",
    "    plt.subplot(1,4,4)\n",
    "    C = np.stack((KujungFM.FACIES,KujungFM.FACIES),axis=1)\n",
    "    #membuat matriks dengan 2 kolom\n",
    "    plt.imshow(C, aspect='auto',extent=[0,1,top,bot],cmap = cmap_facies)\n",
    "    #visualisasi image (bukan plot) dari matrix\n",
    "    plt.gca().axes.yaxis.set_ticklabels([])\n",
    "    plt.xlabel('facies')\n",
    "    plt.ylim(top,bot)\n",
    "\n",
    "    plt.show()\n",
    "\n"
   ]
  },
  {
   "cell_type": "code",
   "execution_count": 163,
   "metadata": {},
   "outputs": [
    {
     "data": {
      "image/png": "[encoded data removed]",
      "text/plain": [
       "<Figure size 432x288 with 4 Axes>"
      ]
     },
     "metadata": {
      "needs_background": "light"
     },
     "output_type": "display_data"
    }
   ],
   "source": [
    "#plot test well (after facies prediction)\n",
    "wellplot(KujungFM_target)\n"
   ]
  },
  {
   "cell_type": "code",
   "execution_count": null,
   "metadata": {},
   "outputs": [],
   "source": []
  },
  {
   "cell_type": "code",
   "execution_count": null,
   "metadata": {},
   "outputs": [],
   "source": []
  }
 ],
 "metadata": {
  "kernelspec": {
   "display_name": "Python 3",
   "language": "python",
   "name": "python3"
  },
  "language_info": {
   "codemirror_mode": {
    "name": "ipython",
    "version": 3
   },
   "file_extension": ".py",
   "mimetype": "text/x-python",
   "name": "python",
   "nbconvert_exporter": "python",
   "pygments_lexer": "ipython3",
   "version": "3.8.5"
  }
 },
 "nbformat": 4,
 "nbformat_minor": 4
}
