{
 "cells": [
  {
   "cell_type": "code",
   "execution_count": 6,
   "metadata": {
    "id": "jOPvpW3VYCLz"
   },
   "outputs": [],
   "source": [
    "import warnings\n",
    "warnings.filterwarnings('ignore')"
   ]
  },
  {
   "cell_type": "markdown",
   "metadata": {
    "id": "EJlkGik9YCL5"
   },
   "source": [
    "## Petrophysics calculation"
   ]
  },
  {
   "cell_type": "code",
   "execution_count": 7,
   "metadata": {
    "id": "4cqvEy4nYCL6",
    "outputId": "7607df5d-5db3-4fb2-8e4b-64fb7d310c6a"
   },
   "outputs": [
    {
     "data": {
      "text/html": [
       "<div>\n",
       "<style scoped>\n",
       "    .dataframe tbody tr th:only-of-type {\n",
       "        vertical-align: middle;\n",
       "    }\n",
       "\n",
       "    .dataframe tbody tr th {\n",
       "        vertical-align: top;\n",
       "    }\n",
       "\n",
       "    .dataframe thead th {\n",
       "        text-align: right;\n",
       "    }\n",
       "</style>\n",
       "<table border=\"1\" class=\"dataframe\">\n",
       "  <thead>\n",
       "    <tr style=\"text-align: right;\">\n",
       "      <th></th>\n",
       "      <th>CALI</th>\n",
       "      <th>DT</th>\n",
       "      <th>GR</th>\n",
       "      <th>ILD</th>\n",
       "      <th>MSFL</th>\n",
       "      <th>NPHI_LS</th>\n",
       "      <th>RHOB</th>\n",
       "    </tr>\n",
       "    <tr>\n",
       "      <th>DEPTH</th>\n",
       "      <th></th>\n",
       "      <th></th>\n",
       "      <th></th>\n",
       "      <th></th>\n",
       "      <th></th>\n",
       "      <th></th>\n",
       "      <th></th>\n",
       "    </tr>\n",
       "  </thead>\n",
       "  <tbody>\n",
       "    <tr>\n",
       "      <th>3001.0</th>\n",
       "      <td>9.984</td>\n",
       "      <td>148.500</td>\n",
       "      <td>80.875</td>\n",
       "      <td>0.722</td>\n",
       "      <td>0.991</td>\n",
       "      <td>0.43701</td>\n",
       "      <td>2.170</td>\n",
       "    </tr>\n",
       "    <tr>\n",
       "      <th>3001.5</th>\n",
       "      <td>9.938</td>\n",
       "      <td>148.625</td>\n",
       "      <td>80.875</td>\n",
       "      <td>0.718</td>\n",
       "      <td>1.026</td>\n",
       "      <td>0.47705</td>\n",
       "      <td>2.176</td>\n",
       "    </tr>\n",
       "    <tr>\n",
       "      <th>3002.0</th>\n",
       "      <td>9.914</td>\n",
       "      <td>146.125</td>\n",
       "      <td>80.625</td>\n",
       "      <td>0.714</td>\n",
       "      <td>0.990</td>\n",
       "      <td>0.45947</td>\n",
       "      <td>2.166</td>\n",
       "    </tr>\n",
       "    <tr>\n",
       "      <th>3002.5</th>\n",
       "      <td>9.859</td>\n",
       "      <td>145.375</td>\n",
       "      <td>82.625</td>\n",
       "      <td>0.715</td>\n",
       "      <td>0.953</td>\n",
       "      <td>0.47754</td>\n",
       "      <td>2.158</td>\n",
       "    </tr>\n",
       "    <tr>\n",
       "      <th>3003.0</th>\n",
       "      <td>9.914</td>\n",
       "      <td>145.125</td>\n",
       "      <td>81.938</td>\n",
       "      <td>0.709</td>\n",
       "      <td>0.900</td>\n",
       "      <td>0.45508</td>\n",
       "      <td>2.156</td>\n",
       "    </tr>\n",
       "    <tr>\n",
       "      <th>...</th>\n",
       "      <td>...</td>\n",
       "      <td>...</td>\n",
       "      <td>...</td>\n",
       "      <td>...</td>\n",
       "      <td>...</td>\n",
       "      <td>...</td>\n",
       "      <td>...</td>\n",
       "    </tr>\n",
       "    <tr>\n",
       "      <th>4458.0</th>\n",
       "      <td>8.484</td>\n",
       "      <td>109.000</td>\n",
       "      <td>79.812</td>\n",
       "      <td>1.122</td>\n",
       "      <td>1.744</td>\n",
       "      <td>0.33252</td>\n",
       "      <td>2.316</td>\n",
       "    </tr>\n",
       "    <tr>\n",
       "      <th>4458.5</th>\n",
       "      <td>8.469</td>\n",
       "      <td>109.438</td>\n",
       "      <td>82.312</td>\n",
       "      <td>1.112</td>\n",
       "      <td>1.972</td>\n",
       "      <td>0.34082</td>\n",
       "      <td>2.326</td>\n",
       "    </tr>\n",
       "    <tr>\n",
       "      <th>4459.0</th>\n",
       "      <td>8.484</td>\n",
       "      <td>109.562</td>\n",
       "      <td>77.188</td>\n",
       "      <td>1.092</td>\n",
       "      <td>1.959</td>\n",
       "      <td>0.35693</td>\n",
       "      <td>2.316</td>\n",
       "    </tr>\n",
       "    <tr>\n",
       "      <th>4459.5</th>\n",
       "      <td>8.461</td>\n",
       "      <td>110.750</td>\n",
       "      <td>75.250</td>\n",
       "      <td>1.079</td>\n",
       "      <td>1.746</td>\n",
       "      <td>0.37256</td>\n",
       "      <td>2.311</td>\n",
       "    </tr>\n",
       "    <tr>\n",
       "      <th>4460.0</th>\n",
       "      <td>8.469</td>\n",
       "      <td>110.938</td>\n",
       "      <td>75.188</td>\n",
       "      <td>1.067</td>\n",
       "      <td>1.625</td>\n",
       "      <td>0.36768</td>\n",
       "      <td>2.307</td>\n",
       "    </tr>\n",
       "  </tbody>\n",
       "</table>\n",
       "<p>2919 rows × 7 columns</p>\n",
       "</div>"
      ],
      "text/plain": [
       "         CALI       DT      GR    ILD   MSFL  NPHI_LS   RHOB\n",
       "DEPTH                                                       \n",
       "3001.0  9.984  148.500  80.875  0.722  0.991  0.43701  2.170\n",
       "3001.5  9.938  148.625  80.875  0.718  1.026  0.47705  2.176\n",
       "3002.0  9.914  146.125  80.625  0.714  0.990  0.45947  2.166\n",
       "3002.5  9.859  145.375  82.625  0.715  0.953  0.47754  2.158\n",
       "3003.0  9.914  145.125  81.938  0.709  0.900  0.45508  2.156\n",
       "...       ...      ...     ...    ...    ...      ...    ...\n",
       "4458.0  8.484  109.000  79.812  1.122  1.744  0.33252  2.316\n",
       "4458.5  8.469  109.438  82.312  1.112  1.972  0.34082  2.326\n",
       "4459.0  8.484  109.562  77.188  1.092  1.959  0.35693  2.316\n",
       "4459.5  8.461  110.750  75.250  1.079  1.746  0.37256  2.311\n",
       "4460.0  8.469  110.938  75.188  1.067  1.625  0.36768  2.307\n",
       "\n",
       "[2919 rows x 7 columns]"
      ]
     },
     "metadata": {},
     "output_type": "display_data"
    }
   ],
   "source": [
    "import lasio\n",
    "las = lasio.read('well-1.las') \n",
    "\n",
    "#convert the las file to pandas dataframe, this will automatically retain the logname and made the depth as index column\n",
    "well=las.df()\n",
    "display(well)"
   ]
  },
  {
   "cell_type": "code",
   "execution_count": 8,
   "metadata": {
    "id": "Ena1z5XyYCL-",
    "outputId": "00590c26-b8b7-44b8-e770-61d7138fb9fd"
   },
   "outputs": [
    {
     "data": {
      "text/html": [
       "<div>\n",
       "<style scoped>\n",
       "    .dataframe tbody tr th:only-of-type {\n",
       "        vertical-align: middle;\n",
       "    }\n",
       "\n",
       "    .dataframe tbody tr th {\n",
       "        vertical-align: top;\n",
       "    }\n",
       "\n",
       "    .dataframe thead th {\n",
       "        text-align: right;\n",
       "    }\n",
       "</style>\n",
       "<table border=\"1\" class=\"dataframe\">\n",
       "  <thead>\n",
       "    <tr style=\"text-align: right;\">\n",
       "      <th></th>\n",
       "      <th>CALI</th>\n",
       "      <th>DT</th>\n",
       "      <th>GR</th>\n",
       "      <th>ILD</th>\n",
       "      <th>MSFL</th>\n",
       "      <th>NPHI_LS</th>\n",
       "      <th>RHOB</th>\n",
       "    </tr>\n",
       "    <tr>\n",
       "      <th>DEPTH</th>\n",
       "      <th></th>\n",
       "      <th></th>\n",
       "      <th></th>\n",
       "      <th></th>\n",
       "      <th></th>\n",
       "      <th></th>\n",
       "      <th></th>\n",
       "    </tr>\n",
       "  </thead>\n",
       "  <tbody>\n",
       "    <tr>\n",
       "      <th>3338.0</th>\n",
       "      <td>8.617</td>\n",
       "      <td>123.625</td>\n",
       "      <td>88.812</td>\n",
       "      <td>1.006</td>\n",
       "      <td>1.292</td>\n",
       "      <td>0.48193</td>\n",
       "      <td>2.264</td>\n",
       "    </tr>\n",
       "    <tr>\n",
       "      <th>3338.5</th>\n",
       "      <td>8.562</td>\n",
       "      <td>116.875</td>\n",
       "      <td>79.500</td>\n",
       "      <td>1.182</td>\n",
       "      <td>1.258</td>\n",
       "      <td>0.46924</td>\n",
       "      <td>2.320</td>\n",
       "    </tr>\n",
       "    <tr>\n",
       "      <th>3339.0</th>\n",
       "      <td>8.594</td>\n",
       "      <td>100.000</td>\n",
       "      <td>68.562</td>\n",
       "      <td>1.417</td>\n",
       "      <td>1.250</td>\n",
       "      <td>0.37354</td>\n",
       "      <td>2.408</td>\n",
       "    </tr>\n",
       "    <tr>\n",
       "      <th>3339.5</th>\n",
       "      <td>8.492</td>\n",
       "      <td>83.938</td>\n",
       "      <td>51.500</td>\n",
       "      <td>1.742</td>\n",
       "      <td>1.430</td>\n",
       "      <td>0.21143</td>\n",
       "      <td>2.562</td>\n",
       "    </tr>\n",
       "    <tr>\n",
       "      <th>3340.0</th>\n",
       "      <td>8.297</td>\n",
       "      <td>65.750</td>\n",
       "      <td>33.844</td>\n",
       "      <td>2.174</td>\n",
       "      <td>7.311</td>\n",
       "      <td>0.13428</td>\n",
       "      <td>2.668</td>\n",
       "    </tr>\n",
       "    <tr>\n",
       "      <th>...</th>\n",
       "      <td>...</td>\n",
       "      <td>...</td>\n",
       "      <td>...</td>\n",
       "      <td>...</td>\n",
       "      <td>...</td>\n",
       "      <td>...</td>\n",
       "      <td>...</td>\n",
       "    </tr>\n",
       "    <tr>\n",
       "      <th>3749.5</th>\n",
       "      <td>8.555</td>\n",
       "      <td>130.625</td>\n",
       "      <td>85.000</td>\n",
       "      <td>0.773</td>\n",
       "      <td>0.873</td>\n",
       "      <td>0.43115</td>\n",
       "      <td>2.184</td>\n",
       "    </tr>\n",
       "    <tr>\n",
       "      <th>3750.0</th>\n",
       "      <td>8.648</td>\n",
       "      <td>130.875</td>\n",
       "      <td>87.500</td>\n",
       "      <td>0.772</td>\n",
       "      <td>0.891</td>\n",
       "      <td>0.43164</td>\n",
       "      <td>2.170</td>\n",
       "    </tr>\n",
       "    <tr>\n",
       "      <th>3750.5</th>\n",
       "      <td>8.680</td>\n",
       "      <td>130.875</td>\n",
       "      <td>86.250</td>\n",
       "      <td>0.775</td>\n",
       "      <td>1.158</td>\n",
       "      <td>0.44092</td>\n",
       "      <td>2.178</td>\n",
       "    </tr>\n",
       "    <tr>\n",
       "      <th>3751.0</th>\n",
       "      <td>8.727</td>\n",
       "      <td>129.375</td>\n",
       "      <td>89.188</td>\n",
       "      <td>0.773</td>\n",
       "      <td>1.072</td>\n",
       "      <td>0.42285</td>\n",
       "      <td>2.184</td>\n",
       "    </tr>\n",
       "    <tr>\n",
       "      <th>3751.5</th>\n",
       "      <td>8.633</td>\n",
       "      <td>129.500</td>\n",
       "      <td>89.688</td>\n",
       "      <td>0.772</td>\n",
       "      <td>1.035</td>\n",
       "      <td>0.40430</td>\n",
       "      <td>2.191</td>\n",
       "    </tr>\n",
       "  </tbody>\n",
       "</table>\n",
       "<p>828 rows × 7 columns</p>\n",
       "</div>"
      ],
      "text/plain": [
       "         CALI       DT      GR    ILD   MSFL  NPHI_LS   RHOB\n",
       "DEPTH                                                       \n",
       "3338.0  8.617  123.625  88.812  1.006  1.292  0.48193  2.264\n",
       "3338.5  8.562  116.875  79.500  1.182  1.258  0.46924  2.320\n",
       "3339.0  8.594  100.000  68.562  1.417  1.250  0.37354  2.408\n",
       "3339.5  8.492   83.938  51.500  1.742  1.430  0.21143  2.562\n",
       "3340.0  8.297   65.750  33.844  2.174  7.311  0.13428  2.668\n",
       "...       ...      ...     ...    ...    ...      ...    ...\n",
       "3749.5  8.555  130.625  85.000  0.773  0.873  0.43115  2.184\n",
       "3750.0  8.648  130.875  87.500  0.772  0.891  0.43164  2.170\n",
       "3750.5  8.680  130.875  86.250  0.775  1.158  0.44092  2.178\n",
       "3751.0  8.727  129.375  89.188  0.773  1.072  0.42285  2.184\n",
       "3751.5  8.633  129.500  89.688  0.772  1.035  0.40430  2.191\n",
       "\n",
       "[828 rows x 7 columns]"
      ]
     },
     "metadata": {},
     "output_type": "display_data"
    }
   ],
   "source": [
    "KujungFM=well.loc[3337.79:3751.5]\n",
    "display(KujungFM)"
   ]
  },
  {
   "cell_type": "code",
   "execution_count": 9,
   "metadata": {
    "id": "WWJ8sZnXYCL_"
   },
   "outputs": [],
   "source": [
    "#this code is adapted from andy mcdonald\n",
    "\n",
    "def shale_volume(gamma_ray, gamma_ray_max, gamma_ray_min): #specify the arguments\n",
    "    vshale = (gamma_ray - gamma_ray_min) / (gamma_ray_max - gamma_ray_min) #use the argument to the equation using math operators\n",
    "    return round(vshale, 4)\n",
    "\n",
    "def density_porosity(input_density, matrix_density, fluid_density):\n",
    "    denpor = (matrix_density - input_density) / (matrix_density - fluid_density)\n",
    "    return round(denpor, 4)"
   ]
  },
  {
   "cell_type": "code",
   "execution_count": 10,
   "metadata": {
    "id": "1NKk_F5ZYCMB",
    "outputId": "aed4132c-3d26-4a9f-ff2b-e4866e217914"
   },
   "outputs": [
    {
     "data": {
      "text/html": [
       "<div>\n",
       "<style scoped>\n",
       "    .dataframe tbody tr th:only-of-type {\n",
       "        vertical-align: middle;\n",
       "    }\n",
       "\n",
       "    .dataframe tbody tr th {\n",
       "        vertical-align: top;\n",
       "    }\n",
       "\n",
       "    .dataframe thead th {\n",
       "        text-align: right;\n",
       "    }\n",
       "</style>\n",
       "<table border=\"1\" class=\"dataframe\">\n",
       "  <thead>\n",
       "    <tr style=\"text-align: right;\">\n",
       "      <th></th>\n",
       "      <th>CALI</th>\n",
       "      <th>DT</th>\n",
       "      <th>GR</th>\n",
       "      <th>ILD</th>\n",
       "      <th>MSFL</th>\n",
       "      <th>NPHI_LS</th>\n",
       "      <th>RHOB</th>\n",
       "      <th>VSHALE</th>\n",
       "      <th>PHI</th>\n",
       "    </tr>\n",
       "    <tr>\n",
       "      <th>DEPTH</th>\n",
       "      <th></th>\n",
       "      <th></th>\n",
       "      <th></th>\n",
       "      <th></th>\n",
       "      <th></th>\n",
       "      <th></th>\n",
       "      <th></th>\n",
       "      <th></th>\n",
       "      <th></th>\n",
       "    </tr>\n",
       "  </thead>\n",
       "  <tbody>\n",
       "    <tr>\n",
       "      <th>3338.0</th>\n",
       "      <td>8.617</td>\n",
       "      <td>123.625</td>\n",
       "      <td>88.812</td>\n",
       "      <td>1.006</td>\n",
       "      <td>1.292</td>\n",
       "      <td>0.48193</td>\n",
       "      <td>2.264</td>\n",
       "      <td>0.8678</td>\n",
       "      <td>0.2339</td>\n",
       "    </tr>\n",
       "    <tr>\n",
       "      <th>3338.5</th>\n",
       "      <td>8.562</td>\n",
       "      <td>116.875</td>\n",
       "      <td>79.500</td>\n",
       "      <td>1.182</td>\n",
       "      <td>1.258</td>\n",
       "      <td>0.46924</td>\n",
       "      <td>2.320</td>\n",
       "      <td>0.7119</td>\n",
       "      <td>0.2000</td>\n",
       "    </tr>\n",
       "    <tr>\n",
       "      <th>3339.0</th>\n",
       "      <td>8.594</td>\n",
       "      <td>100.000</td>\n",
       "      <td>68.562</td>\n",
       "      <td>1.417</td>\n",
       "      <td>1.250</td>\n",
       "      <td>0.37354</td>\n",
       "      <td>2.408</td>\n",
       "      <td>0.5289</td>\n",
       "      <td>0.1467</td>\n",
       "    </tr>\n",
       "    <tr>\n",
       "      <th>3339.5</th>\n",
       "      <td>8.492</td>\n",
       "      <td>83.938</td>\n",
       "      <td>51.500</td>\n",
       "      <td>1.742</td>\n",
       "      <td>1.430</td>\n",
       "      <td>0.21143</td>\n",
       "      <td>2.562</td>\n",
       "      <td>0.2433</td>\n",
       "      <td>0.0533</td>\n",
       "    </tr>\n",
       "    <tr>\n",
       "      <th>3340.0</th>\n",
       "      <td>8.297</td>\n",
       "      <td>65.750</td>\n",
       "      <td>33.844</td>\n",
       "      <td>2.174</td>\n",
       "      <td>7.311</td>\n",
       "      <td>0.13428</td>\n",
       "      <td>2.668</td>\n",
       "      <td>-0.0522</td>\n",
       "      <td>-0.0109</td>\n",
       "    </tr>\n",
       "  </tbody>\n",
       "</table>\n",
       "</div>"
      ],
      "text/plain": [
       "         CALI       DT      GR    ILD   MSFL  NPHI_LS   RHOB  VSHALE     PHI\n",
       "DEPTH                                                                       \n",
       "3338.0  8.617  123.625  88.812  1.006  1.292  0.48193  2.264  0.8678  0.2339\n",
       "3338.5  8.562  116.875  79.500  1.182  1.258  0.46924  2.320  0.7119  0.2000\n",
       "3339.0  8.594  100.000  68.562  1.417  1.250  0.37354  2.408  0.5289  0.1467\n",
       "3339.5  8.492   83.938  51.500  1.742  1.430  0.21143  2.562  0.2433  0.0533\n",
       "3340.0  8.297   65.750  33.844  2.174  7.311  0.13428  2.668 -0.0522 -0.0109"
      ]
     },
     "execution_count": 10,
     "metadata": {},
     "output_type": "execute_result"
    }
   ],
   "source": [
    "mDens= 2.65\n",
    "fDens= 1\n",
    "KujungFM['VSHALE']=shale_volume(KujungFM['GR'], KujungFM['GR'].quantile(q=0.99),\n",
    "                             KujungFM['GR'].quantile(q=0.01))\n",
    "KujungFM['PHI']=density_porosity(KujungFM['RHOB'], mDens, fDens)\n",
    "KujungFM.head()"
   ]
  },
  {
   "cell_type": "markdown",
   "metadata": {
    "id": "TMTRwNBkYCMD"
   },
   "source": [
    "### Calculate RW and SW\n",
    "\n",
    "**Apparent water formation resistivity using Hingle method**\n",
    "<img src=https://github.com/partsolco/python-geo-20feb2021/blob/main/images/rw.PNG?raw=true>\n",
    "\n",
    "**SW:**\n",
    "<img src=https://github.com/partsolco/python-geo-20feb2021/blob/main/images/sw_archie.png?raw=true>"
   ]
  },
  {
   "cell_type": "code",
   "execution_count": 11,
   "metadata": {
    "id": "N3OJpkerYCME"
   },
   "outputs": [],
   "source": [
    "def rw_app(porosity, archieA, archieM, rt):\n",
    "    rw= (porosity**archieM * rt/archieA)\n",
    "    return rw\n",
    "\n",
    "def sw_archie(porosity, rt, rw, archieA, archieM, archieN):\n",
    "    sw = ((archieA / (porosity ** archieM)) * (rw/rt))**(1/archieN)\n",
    "    return sw\n",
    "\n",
    "archieA= 1\n",
    "archieM= 2\n",
    "archieN= 2"
   ]
  },
  {
   "cell_type": "code",
   "execution_count": 12,
   "metadata": {
    "id": "RKE0OGYrYCME"
   },
   "outputs": [],
   "source": [
    "KujungFM['Rw'] = rw_app(KujungFM['NPHI_LS'], archieA, archieM, KujungFM['ILD'])\n",
    "KujungFM['SW'] = sw_archie(KujungFM['NPHI_LS'], KujungFM['ILD'], KujungFM['Rw'], archieA, archieM, archieN)"
   ]
  },
  {
   "cell_type": "code",
   "execution_count": 21,
   "metadata": {},
   "outputs": [
    {
     "data": {
      "text/plain": [
       "DEPTH\n",
       "3338.0    0.233650\n",
       "3338.5    0.260260\n",
       "3339.0    0.197717\n",
       "3339.5    0.077872\n",
       "3340.0    0.039200\n",
       "Name: Rw, dtype: float64"
      ]
     },
     "execution_count": 21,
     "metadata": {},
     "output_type": "execute_result"
    }
   ],
   "source": [
    "KujungFM['Rw'].head()"
   ]
  },
  {
   "cell_type": "code",
   "execution_count": 22,
   "metadata": {},
   "outputs": [
    {
     "data": {
      "text/plain": [
       "DEPTH\n",
       "3338.0    1.0\n",
       "3338.5    1.0\n",
       "3339.0    1.0\n",
       "3339.5    1.0\n",
       "3340.0    1.0\n",
       "Name: SW, dtype: float64"
      ]
     },
     "execution_count": 22,
     "metadata": {},
     "output_type": "execute_result"
    }
   ],
   "source": [
    "KujungFM['SW'].head()"
   ]
  },
  {
   "cell_type": "code",
   "execution_count": 13,
   "metadata": {
    "id": "BCnbnSX6YCMF"
   },
   "outputs": [
    {
     "data": {
      "text/html": [
       "<div>\n",
       "<style scoped>\n",
       "    .dataframe tbody tr th:only-of-type {\n",
       "        vertical-align: middle;\n",
       "    }\n",
       "\n",
       "    .dataframe tbody tr th {\n",
       "        vertical-align: top;\n",
       "    }\n",
       "\n",
       "    .dataframe thead th {\n",
       "        text-align: right;\n",
       "    }\n",
       "</style>\n",
       "<table border=\"1\" class=\"dataframe\">\n",
       "  <thead>\n",
       "    <tr style=\"text-align: right;\">\n",
       "      <th></th>\n",
       "      <th>CALI</th>\n",
       "      <th>DT</th>\n",
       "      <th>GR</th>\n",
       "      <th>ILD</th>\n",
       "      <th>MSFL</th>\n",
       "      <th>NPHI_LS</th>\n",
       "      <th>RHOB</th>\n",
       "    </tr>\n",
       "  </thead>\n",
       "  <tbody>\n",
       "    <tr>\n",
       "      <th>count</th>\n",
       "      <td>2919.000000</td>\n",
       "      <td>2919.000000</td>\n",
       "      <td>2919.000000</td>\n",
       "      <td>2919.000000</td>\n",
       "      <td>2919.000000</td>\n",
       "      <td>2919.000000</td>\n",
       "      <td>2919.000000</td>\n",
       "    </tr>\n",
       "    <tr>\n",
       "      <th>mean</th>\n",
       "      <td>8.893338</td>\n",
       "      <td>118.309119</td>\n",
       "      <td>74.181216</td>\n",
       "      <td>1.043017</td>\n",
       "      <td>1.556427</td>\n",
       "      <td>0.380029</td>\n",
       "      <td>2.206859</td>\n",
       "    </tr>\n",
       "    <tr>\n",
       "      <th>std</th>\n",
       "      <td>0.600544</td>\n",
       "      <td>12.618610</td>\n",
       "      <td>11.396476</td>\n",
       "      <td>0.346950</td>\n",
       "      <td>2.492693</td>\n",
       "      <td>0.052755</td>\n",
       "      <td>0.092249</td>\n",
       "    </tr>\n",
       "    <tr>\n",
       "      <th>min</th>\n",
       "      <td>7.629000</td>\n",
       "      <td>57.625000</td>\n",
       "      <td>17.641000</td>\n",
       "      <td>0.533000</td>\n",
       "      <td>0.307000</td>\n",
       "      <td>0.119630</td>\n",
       "      <td>1.696000</td>\n",
       "    </tr>\n",
       "    <tr>\n",
       "      <th>25%</th>\n",
       "      <td>8.461000</td>\n",
       "      <td>110.188000</td>\n",
       "      <td>68.500000</td>\n",
       "      <td>0.826000</td>\n",
       "      <td>0.988000</td>\n",
       "      <td>0.346190</td>\n",
       "      <td>2.174000</td>\n",
       "    </tr>\n",
       "    <tr>\n",
       "      <th>50%</th>\n",
       "      <td>8.734000</td>\n",
       "      <td>117.812000</td>\n",
       "      <td>76.250000</td>\n",
       "      <td>0.993000</td>\n",
       "      <td>1.275000</td>\n",
       "      <td>0.380370</td>\n",
       "      <td>2.219000</td>\n",
       "    </tr>\n",
       "    <tr>\n",
       "      <th>75%</th>\n",
       "      <td>9.242000</td>\n",
       "      <td>126.125000</td>\n",
       "      <td>81.938000</td>\n",
       "      <td>1.214000</td>\n",
       "      <td>1.549000</td>\n",
       "      <td>0.416020</td>\n",
       "      <td>2.256000</td>\n",
       "    </tr>\n",
       "    <tr>\n",
       "      <th>max</th>\n",
       "      <td>12.773000</td>\n",
       "      <td>156.250000</td>\n",
       "      <td>101.188000</td>\n",
       "      <td>6.004000</td>\n",
       "      <td>48.177000</td>\n",
       "      <td>0.523440</td>\n",
       "      <td>2.719000</td>\n",
       "    </tr>\n",
       "  </tbody>\n",
       "</table>\n",
       "</div>"
      ],
      "text/plain": [
       "              CALI           DT           GR          ILD         MSFL  \\\n",
       "count  2919.000000  2919.000000  2919.000000  2919.000000  2919.000000   \n",
       "mean      8.893338   118.309119    74.181216     1.043017     1.556427   \n",
       "std       0.600544    12.618610    11.396476     0.346950     2.492693   \n",
       "min       7.629000    57.625000    17.641000     0.533000     0.307000   \n",
       "25%       8.461000   110.188000    68.500000     0.826000     0.988000   \n",
       "50%       8.734000   117.812000    76.250000     0.993000     1.275000   \n",
       "75%       9.242000   126.125000    81.938000     1.214000     1.549000   \n",
       "max      12.773000   156.250000   101.188000     6.004000    48.177000   \n",
       "\n",
       "           NPHI_LS         RHOB  \n",
       "count  2919.000000  2919.000000  \n",
       "mean      0.380029     2.206859  \n",
       "std       0.052755     0.092249  \n",
       "min       0.119630     1.696000  \n",
       "25%       0.346190     2.174000  \n",
       "50%       0.380370     2.219000  \n",
       "75%       0.416020     2.256000  \n",
       "max       0.523440     2.719000  "
      ]
     },
     "execution_count": 13,
     "metadata": {},
     "output_type": "execute_result"
    }
   ],
   "source": [
    "well.describe()"
   ]
  },
  {
   "cell_type": "markdown",
   "metadata": {
    "id": "cGU1zQLYYCMG"
   },
   "source": [
    "## Data Handling"
   ]
  },
  {
   "cell_type": "markdown",
   "metadata": {
    "id": "UiqAZfi1YCMG"
   },
   "source": [
    "- ***explore the statistical information of the SW and RW log***\n",
    "- ***compare the mean and the standard deviation of each log from the pandas result***\n",
    "- ***visualize using histogram, boxplot, etc***"
   ]
  },
  {
   "cell_type": "code",
   "execution_count": 14,
   "metadata": {
    "id": "779ihkJvYCMH"
   },
   "outputs": [],
   "source": [
    "import pandas as pd\n",
    "logging = pd.DataFrame({'Rw log':KujungFM['Rw'], 'SW log':KujungFM['SW']})"
   ]
  },
  {
   "cell_type": "code",
   "execution_count": 15,
   "metadata": {},
   "outputs": [
    {
     "data": {
      "text/html": [
       "<div>\n",
       "<style scoped>\n",
       "    .dataframe tbody tr th:only-of-type {\n",
       "        vertical-align: middle;\n",
       "    }\n",
       "\n",
       "    .dataframe tbody tr th {\n",
       "        vertical-align: top;\n",
       "    }\n",
       "\n",
       "    .dataframe thead th {\n",
       "        text-align: right;\n",
       "    }\n",
       "</style>\n",
       "<table border=\"1\" class=\"dataframe\">\n",
       "  <thead>\n",
       "    <tr style=\"text-align: right;\">\n",
       "      <th></th>\n",
       "      <th>Rw log</th>\n",
       "      <th>SW log</th>\n",
       "    </tr>\n",
       "    <tr>\n",
       "      <th>DEPTH</th>\n",
       "      <th></th>\n",
       "      <th></th>\n",
       "    </tr>\n",
       "  </thead>\n",
       "  <tbody>\n",
       "    <tr>\n",
       "      <th>3338.0</th>\n",
       "      <td>0.233650</td>\n",
       "      <td>1.0</td>\n",
       "    </tr>\n",
       "    <tr>\n",
       "      <th>3338.5</th>\n",
       "      <td>0.260260</td>\n",
       "      <td>1.0</td>\n",
       "    </tr>\n",
       "    <tr>\n",
       "      <th>3339.0</th>\n",
       "      <td>0.197717</td>\n",
       "      <td>1.0</td>\n",
       "    </tr>\n",
       "    <tr>\n",
       "      <th>3339.5</th>\n",
       "      <td>0.077872</td>\n",
       "      <td>1.0</td>\n",
       "    </tr>\n",
       "    <tr>\n",
       "      <th>3340.0</th>\n",
       "      <td>0.039200</td>\n",
       "      <td>1.0</td>\n",
       "    </tr>\n",
       "  </tbody>\n",
       "</table>\n",
       "</div>"
      ],
      "text/plain": [
       "          Rw log  SW log\n",
       "DEPTH                   \n",
       "3338.0  0.233650     1.0\n",
       "3338.5  0.260260     1.0\n",
       "3339.0  0.197717     1.0\n",
       "3339.5  0.077872     1.0\n",
       "3340.0  0.039200     1.0"
      ]
     },
     "execution_count": 15,
     "metadata": {},
     "output_type": "execute_result"
    }
   ],
   "source": [
    "logging.head()"
   ]
  },
  {
   "cell_type": "code",
   "execution_count": 16,
   "metadata": {},
   "outputs": [
    {
     "data": {
      "text/html": [
       "<div>\n",
       "<style scoped>\n",
       "    .dataframe tbody tr th:only-of-type {\n",
       "        vertical-align: middle;\n",
       "    }\n",
       "\n",
       "    .dataframe tbody tr th {\n",
       "        vertical-align: top;\n",
       "    }\n",
       "\n",
       "    .dataframe thead th {\n",
       "        text-align: right;\n",
       "    }\n",
       "</style>\n",
       "<table border=\"1\" class=\"dataframe\">\n",
       "  <thead>\n",
       "    <tr style=\"text-align: right;\">\n",
       "      <th></th>\n",
       "      <th>Rw log</th>\n",
       "      <th>SW log</th>\n",
       "    </tr>\n",
       "  </thead>\n",
       "  <tbody>\n",
       "    <tr>\n",
       "      <th>count</th>\n",
       "      <td>828.000000</td>\n",
       "      <td>8.280000e+02</td>\n",
       "    </tr>\n",
       "    <tr>\n",
       "      <th>mean</th>\n",
       "      <td>0.154674</td>\n",
       "      <td>1.000000e+00</td>\n",
       "    </tr>\n",
       "    <tr>\n",
       "      <th>std</th>\n",
       "      <td>0.032237</td>\n",
       "      <td>4.316309e-17</td>\n",
       "    </tr>\n",
       "    <tr>\n",
       "      <th>min</th>\n",
       "      <td>0.039200</td>\n",
       "      <td>1.000000e+00</td>\n",
       "    </tr>\n",
       "    <tr>\n",
       "      <th>25%</th>\n",
       "      <td>0.133070</td>\n",
       "      <td>1.000000e+00</td>\n",
       "    </tr>\n",
       "    <tr>\n",
       "      <th>50%</th>\n",
       "      <td>0.152117</td>\n",
       "      <td>1.000000e+00</td>\n",
       "    </tr>\n",
       "    <tr>\n",
       "      <th>75%</th>\n",
       "      <td>0.173003</td>\n",
       "      <td>1.000000e+00</td>\n",
       "    </tr>\n",
       "    <tr>\n",
       "      <th>max</th>\n",
       "      <td>0.343277</td>\n",
       "      <td>1.000000e+00</td>\n",
       "    </tr>\n",
       "  </tbody>\n",
       "</table>\n",
       "</div>"
      ],
      "text/plain": [
       "           Rw log        SW log\n",
       "count  828.000000  8.280000e+02\n",
       "mean     0.154674  1.000000e+00\n",
       "std      0.032237  4.316309e-17\n",
       "min      0.039200  1.000000e+00\n",
       "25%      0.133070  1.000000e+00\n",
       "50%      0.152117  1.000000e+00\n",
       "75%      0.173003  1.000000e+00\n",
       "max      0.343277  1.000000e+00"
      ]
     },
     "execution_count": 16,
     "metadata": {},
     "output_type": "execute_result"
    }
   ],
   "source": [
    "#explore the statistical information of the SW and RW log\n",
    "logging.describe()"
   ]
  },
  {
   "cell_type": "code",
   "execution_count": 17,
   "metadata": {},
   "outputs": [
    {
     "name": "stdout",
     "output_type": "stream",
     "text": [
      "Mean for all variables in logging: \n",
      "Rw log    0.154674\n",
      "SW log    1.000000\n",
      "dtype: float64\n",
      "\n",
      "Standard deviation for all variables in logging: \n",
      "Rw log    3.223677e-02\n",
      "SW log    4.316309e-17\n",
      "dtype: float64\n"
     ]
    }
   ],
   "source": [
    "#compare the mean and the standard deviation of each log from the pandas result\n",
    "print ('Mean for all variables in logging: \\n' + str(logging.mean()))\n",
    "print ('')\n",
    "print ('Standard deviation for all variables in logging: \\n' + str(logging.std()))"
   ]
  },
  {
   "cell_type": "code",
   "execution_count": 18,
   "metadata": {},
   "outputs": [
    {
     "data": {
      "image/png": "[encoded data removed]",
      "text/plain": [
       "<Figure size 432x288 with 1 Axes>"
      ]
     },
     "metadata": {
      "needs_background": "light"
     },
     "output_type": "display_data"
    },
    {
     "data": {
      "image/png": "[encoded data removed]",
      "text/plain": [
       "<Figure size 432x288 with 1 Axes>"
      ]
     },
     "metadata": {
      "needs_background": "light"
     },
     "output_type": "display_data"
    }
   ],
   "source": [
    "#visualize using histogram, boxplot, etc\n",
    "import matplotlib.pyplot as plt\n",
    "import seaborn as sns\n",
    "\n",
    "sns.boxplot(logging['Rw log'])\n",
    "plt.show()\n",
    "\n",
    "sns.distplot(logging['Rw log'], bins=16)\n",
    "plt.show()"
   ]
  },
  {
   "cell_type": "code",
   "execution_count": 106,
   "metadata": {},
   "outputs": [
    {
     "data": {
      "image/png": "[encoded data removed]",
      "text/plain": [
       "<Figure size 432x288 with 1 Axes>"
      ]
     },
     "metadata": {
      "needs_background": "light"
     },
     "output_type": "display_data"
    },
    {
     "data": {
      "image/png": "[encoded data removed]",
      "text/plain": [
       "<Figure size 432x288 with 1 Axes>"
      ]
     },
     "metadata": {
      "needs_background": "light"
     },
     "output_type": "display_data"
    }
   ],
   "source": [
    "sns.boxplot(logging['SW log'])\n",
    "plt.show()\n",
    "\n",
    "sns.distplot(logging['SW log'])\n",
    "plt.show()"
   ]
  }
 ],
 "metadata": {
  "colab": {
   "name": "Assignment Partsol.ipynb",
   "provenance": []
  },
  "kernelspec": {
   "display_name": "Python 3",
   "language": "python",
   "name": "python3"
  },
  "language_info": {
   "codemirror_mode": {
    "name": "ipython",
    "version": 3
   },
   "file_extension": ".py",
   "mimetype": "text/x-python",
   "name": "python",
   "nbconvert_exporter": "python",
   "pygments_lexer": "ipython3",
   "version": "3.9.1"
  }
 },
 "nbformat": 4,
 "nbformat_minor": 1
}
