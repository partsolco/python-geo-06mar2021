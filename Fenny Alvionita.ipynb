{
 "cells": [
  {
   "cell_type": "code",
   "execution_count": 19,
   "metadata": {},
   "outputs": [
    {
     "name": "stdout",
     "output_type": "stream",
     "text": [
      "Requirement already satisfied: lasio in c:\\users\\ibnu\\anaconda3\\lib\\site-packages (0.28)\n",
      "Requirement already satisfied: numpy in c:\\users\\ibnu\\anaconda3\\lib\\site-packages (from lasio) (1.19.2)\n"
     ]
    }
   ],
   "source": [
    "import warnings\n",
    "warnings.filterwarnings('ignore')\n",
    "import numpy as np\n",
    "import matplotlib.pyplot as plt\n",
    "import pandas as pd\n",
    "\n",
    "import sys\n",
    "!{sys.executable} -m pip install lasio"
   ]
  },
  {
   "cell_type": "markdown",
   "metadata": {},
   "source": [
    "## Petrophysics calculation"
   ]
  },
  {
   "cell_type": "code",
   "execution_count": 20,
   "metadata": {},
   "outputs": [
    {
     "name": "stdout",
     "output_type": "stream",
     "text": [
      "         CALI       DT      GR    ILD   MSFL  NPHI_LS   RHOB\n",
      "DEPTH                                                       \n",
      "3001.0  9.984  148.500  80.875  0.722  0.991  0.43701  2.170\n",
      "3001.5  9.938  148.625  80.875  0.718  1.026  0.47705  2.176\n",
      "3002.0  9.914  146.125  80.625  0.714  0.990  0.45947  2.166\n",
      "3002.5  9.859  145.375  82.625  0.715  0.953  0.47754  2.158\n",
      "3003.0  9.914  145.125  81.938  0.709  0.900  0.45508  2.156\n",
      "...       ...      ...     ...    ...    ...      ...    ...\n",
      "4458.0  8.484  109.000  79.812  1.122  1.744  0.33252  2.316\n",
      "4458.5  8.469  109.438  82.312  1.112  1.972  0.34082  2.326\n",
      "4459.0  8.484  109.562  77.188  1.092  1.959  0.35693  2.316\n",
      "4459.5  8.461  110.750  75.250  1.079  1.746  0.37256  2.311\n",
      "4460.0  8.469  110.938  75.188  1.067  1.625  0.36768  2.307\n",
      "\n",
      "[2919 rows x 7 columns]\n"
     ]
    }
   ],
   "source": [
    "import lasio\n",
    "las=lasio.read('well-1.las') \n",
    "\n",
    "#convert the las file to pandas dataframe, this will automatically retain the logname and made the depth as index column\n",
    "well=las.df()\n",
    "print (well)"
   ]
  },
  {
   "cell_type": "code",
   "execution_count": 21,
   "metadata": {},
   "outputs": [
    {
     "name": "stdout",
     "output_type": "stream",
     "text": [
      "         CALI       DT      GR    ILD   MSFL  NPHI_LS   RHOB\n",
      "DEPTH                                                       \n",
      "3338.0  8.617  123.625  88.812  1.006  1.292  0.48193  2.264\n",
      "3338.5  8.562  116.875  79.500  1.182  1.258  0.46924  2.320\n",
      "3339.0  8.594  100.000  68.562  1.417  1.250  0.37354  2.408\n",
      "3339.5  8.492   83.938  51.500  1.742  1.430  0.21143  2.562\n",
      "3340.0  8.297   65.750  33.844  2.174  7.311  0.13428  2.668\n",
      "...       ...      ...     ...    ...    ...      ...    ...\n",
      "3749.5  8.555  130.625  85.000  0.773  0.873  0.43115  2.184\n",
      "3750.0  8.648  130.875  87.500  0.772  0.891  0.43164  2.170\n",
      "3750.5  8.680  130.875  86.250  0.775  1.158  0.44092  2.178\n",
      "3751.0  8.727  129.375  89.188  0.773  1.072  0.42285  2.184\n",
      "3751.5  8.633  129.500  89.688  0.772  1.035  0.40430  2.191\n",
      "\n",
      "[828 rows x 7 columns]\n"
     ]
    }
   ],
   "source": [
    "KujungFM=well.loc[3337.79:3751.5]\n",
    "print (KujungFM)"
   ]
  },
  {
   "cell_type": "code",
   "execution_count": 22,
   "metadata": {},
   "outputs": [],
   "source": [
    "#this code is adapted from andy mcdonald\n",
    "\n",
    "def shale_volume(gamma_ray, gamma_ray_max, gamma_ray_min): #specify the arguments\n",
    "    vshale = (gamma_ray - gamma_ray_min) / (gamma_ray_max - gamma_ray_min) #use the argument to the equation using math operators\n",
    "    return round(vshale, 4)\n",
    "\n",
    "def density_porosity(input_density, matrix_density, fluid_density):\n",
    "    denpor = (matrix_density - input_density) / (matrix_density - fluid_density)\n",
    "    return round(denpor, 4)"
   ]
  },
  {
   "cell_type": "code",
   "execution_count": 23,
   "metadata": {},
   "outputs": [
    {
     "data": {
      "text/html": [
       "<div>\n",
       "<style scoped>\n",
       "    .dataframe tbody tr th:only-of-type {\n",
       "        vertical-align: middle;\n",
       "    }\n",
       "\n",
       "    .dataframe tbody tr th {\n",
       "        vertical-align: top;\n",
       "    }\n",
       "\n",
       "    .dataframe thead th {\n",
       "        text-align: right;\n",
       "    }\n",
       "</style>\n",
       "<table border=\"1\" class=\"dataframe\">\n",
       "  <thead>\n",
       "    <tr style=\"text-align: right;\">\n",
       "      <th></th>\n",
       "      <th>CALI</th>\n",
       "      <th>DT</th>\n",
       "      <th>GR</th>\n",
       "      <th>ILD</th>\n",
       "      <th>MSFL</th>\n",
       "      <th>NPHI_LS</th>\n",
       "      <th>RHOB</th>\n",
       "      <th>VSHALE</th>\n",
       "      <th>PHI</th>\n",
       "    </tr>\n",
       "    <tr>\n",
       "      <th>DEPTH</th>\n",
       "      <th></th>\n",
       "      <th></th>\n",
       "      <th></th>\n",
       "      <th></th>\n",
       "      <th></th>\n",
       "      <th></th>\n",
       "      <th></th>\n",
       "      <th></th>\n",
       "      <th></th>\n",
       "    </tr>\n",
       "  </thead>\n",
       "  <tbody>\n",
       "    <tr>\n",
       "      <th>3338.0</th>\n",
       "      <td>8.617</td>\n",
       "      <td>123.625</td>\n",
       "      <td>88.812</td>\n",
       "      <td>1.006</td>\n",
       "      <td>1.292</td>\n",
       "      <td>0.48193</td>\n",
       "      <td>2.264</td>\n",
       "      <td>0.8678</td>\n",
       "      <td>0.2339</td>\n",
       "    </tr>\n",
       "    <tr>\n",
       "      <th>3338.5</th>\n",
       "      <td>8.562</td>\n",
       "      <td>116.875</td>\n",
       "      <td>79.500</td>\n",
       "      <td>1.182</td>\n",
       "      <td>1.258</td>\n",
       "      <td>0.46924</td>\n",
       "      <td>2.320</td>\n",
       "      <td>0.7119</td>\n",
       "      <td>0.2000</td>\n",
       "    </tr>\n",
       "    <tr>\n",
       "      <th>3339.0</th>\n",
       "      <td>8.594</td>\n",
       "      <td>100.000</td>\n",
       "      <td>68.562</td>\n",
       "      <td>1.417</td>\n",
       "      <td>1.250</td>\n",
       "      <td>0.37354</td>\n",
       "      <td>2.408</td>\n",
       "      <td>0.5289</td>\n",
       "      <td>0.1467</td>\n",
       "    </tr>\n",
       "    <tr>\n",
       "      <th>3339.5</th>\n",
       "      <td>8.492</td>\n",
       "      <td>83.938</td>\n",
       "      <td>51.500</td>\n",
       "      <td>1.742</td>\n",
       "      <td>1.430</td>\n",
       "      <td>0.21143</td>\n",
       "      <td>2.562</td>\n",
       "      <td>0.2433</td>\n",
       "      <td>0.0533</td>\n",
       "    </tr>\n",
       "    <tr>\n",
       "      <th>3340.0</th>\n",
       "      <td>8.297</td>\n",
       "      <td>65.750</td>\n",
       "      <td>33.844</td>\n",
       "      <td>2.174</td>\n",
       "      <td>7.311</td>\n",
       "      <td>0.13428</td>\n",
       "      <td>2.668</td>\n",
       "      <td>-0.0522</td>\n",
       "      <td>-0.0109</td>\n",
       "    </tr>\n",
       "  </tbody>\n",
       "</table>\n",
       "</div>"
      ],
      "text/plain": [
       "         CALI       DT      GR    ILD   MSFL  NPHI_LS   RHOB  VSHALE     PHI\n",
       "DEPTH                                                                       \n",
       "3338.0  8.617  123.625  88.812  1.006  1.292  0.48193  2.264  0.8678  0.2339\n",
       "3338.5  8.562  116.875  79.500  1.182  1.258  0.46924  2.320  0.7119  0.2000\n",
       "3339.0  8.594  100.000  68.562  1.417  1.250  0.37354  2.408  0.5289  0.1467\n",
       "3339.5  8.492   83.938  51.500  1.742  1.430  0.21143  2.562  0.2433  0.0533\n",
       "3340.0  8.297   65.750  33.844  2.174  7.311  0.13428  2.668 -0.0522 -0.0109"
      ]
     },
     "execution_count": 23,
     "metadata": {},
     "output_type": "execute_result"
    }
   ],
   "source": [
    "mDens= 2.65\n",
    "fDens= 1\n",
    "KujungFM['VSHALE']=shale_volume(KujungFM['GR'], KujungFM['GR'].quantile(q=0.99),\n",
    "                             KujungFM['GR'].quantile(q=0.01))\n",
    "KujungFM['PHI']=density_porosity(KujungFM['RHOB'], mDens, fDens)\n",
    "KujungFM.head()"
   ]
  },
  {
   "cell_type": "markdown",
   "metadata": {},
   "source": [
    "### Calculate RW and SW\n",
    "\n",
    "**Apparent water formation resistivity using Hingle method**\n",
    "<img src=https://github.com/partsolco/python-geo-20feb2021/blob/main/images/rw.PNG?raw=true>\n",
    "\n",
    "**SW:**\n",
    "<img src=https://github.com/partsolco/python-geo-20feb2021/blob/main/images/sw_archie.png?raw=true>"
   ]
  },
  {
   "cell_type": "code",
   "execution_count": 24,
   "metadata": {},
   "outputs": [],
   "source": [
    "def rw_app(porosity, archieA, archieM, rt):\n",
    "    rw= ((porosity ** archieM) * (rt/archieA))\n",
    "    return rw\n",
    "\n",
    "def sw_archie(porosity, rt, rw, archieA, archieM, archieN):\n",
    "    sw = ((archieA / (porosity ** archieM)) * (rw/rt))**(1/archieN)\n",
    "    return sw\n",
    "\n",
    "archieA= 1\n",
    "archieM= 2\n",
    "archieN= 2"
   ]
  },
  {
   "cell_type": "code",
   "execution_count": 25,
   "metadata": {},
   "outputs": [
    {
     "name": "stdout",
     "output_type": "stream",
     "text": [
      "         CALI       DT      GR    ILD   MSFL  NPHI_LS   RHOB  VSHALE     PHI  \\\n",
      "DEPTH                                                                          \n",
      "3338.0  8.617  123.625  88.812  1.006  1.292  0.48193  2.264  0.8678  0.2339   \n",
      "3338.5  8.562  116.875  79.500  1.182  1.258  0.46924  2.320  0.7119  0.2000   \n",
      "3339.0  8.594  100.000  68.562  1.417  1.250  0.37354  2.408  0.5289  0.1467   \n",
      "3339.5  8.492   83.938  51.500  1.742  1.430  0.21143  2.562  0.2433  0.0533   \n",
      "3340.0  8.297   65.750  33.844  2.174  7.311  0.13428  2.668 -0.0522 -0.0109   \n",
      "...       ...      ...     ...    ...    ...      ...    ...     ...     ...   \n",
      "3749.5  8.555  130.625  85.000  0.773  0.873  0.43115  2.184  0.8040  0.2824   \n",
      "3750.0  8.648  130.875  87.500  0.772  0.891  0.43164  2.170  0.8458  0.2909   \n",
      "3750.5  8.680  130.875  86.250  0.775  1.158  0.44092  2.178  0.8249  0.2861   \n",
      "3751.0  8.727  129.375  89.188  0.773  1.072  0.42285  2.184  0.8741  0.2824   \n",
      "3751.5  8.633  129.500  89.688  0.772  1.035  0.40430  2.191  0.8825  0.2782   \n",
      "\n",
      "              rw  \n",
      "DEPTH             \n",
      "3338.0  0.233650  \n",
      "3338.5  0.260260  \n",
      "3339.0  0.197717  \n",
      "3339.5  0.077872  \n",
      "3340.0  0.039200  \n",
      "...          ...  \n",
      "3749.5  0.143693  \n",
      "3750.0  0.143834  \n",
      "3750.5  0.150668  \n",
      "3751.0  0.138214  \n",
      "3751.5  0.126190  \n",
      "\n",
      "[828 rows x 10 columns]\n"
     ]
    }
   ],
   "source": [
    "KujungFM['rw']= rw_app(KujungFM[\"NPHI_LS\"], archieA, archieM, KujungFM[\"ILD\"])\n",
    "\n",
    "print (KujungFM)"
   ]
  },
  {
   "cell_type": "code",
   "execution_count": 26,
   "metadata": {},
   "outputs": [
    {
     "name": "stdout",
     "output_type": "stream",
     "text": [
      "         CALI       DT      GR    ILD   MSFL  NPHI_LS   RHOB  VSHALE     PHI  \\\n",
      "DEPTH                                                                          \n",
      "3338.0  8.617  123.625  88.812  1.006  1.292  0.48193  2.264  0.8678  0.2339   \n",
      "3338.5  8.562  116.875  79.500  1.182  1.258  0.46924  2.320  0.7119  0.2000   \n",
      "3339.0  8.594  100.000  68.562  1.417  1.250  0.37354  2.408  0.5289  0.1467   \n",
      "3339.5  8.492   83.938  51.500  1.742  1.430  0.21143  2.562  0.2433  0.0533   \n",
      "3340.0  8.297   65.750  33.844  2.174  7.311  0.13428  2.668 -0.0522 -0.0109   \n",
      "...       ...      ...     ...    ...    ...      ...    ...     ...     ...   \n",
      "3749.5  8.555  130.625  85.000  0.773  0.873  0.43115  2.184  0.8040  0.2824   \n",
      "3750.0  8.648  130.875  87.500  0.772  0.891  0.43164  2.170  0.8458  0.2909   \n",
      "3750.5  8.680  130.875  86.250  0.775  1.158  0.44092  2.178  0.8249  0.2861   \n",
      "3751.0  8.727  129.375  89.188  0.773  1.072  0.42285  2.184  0.8741  0.2824   \n",
      "3751.5  8.633  129.500  89.688  0.772  1.035  0.40430  2.191  0.8825  0.2782   \n",
      "\n",
      "              rw   SW  \n",
      "DEPTH                  \n",
      "3338.0  0.233650  1.0  \n",
      "3338.5  0.260260  1.0  \n",
      "3339.0  0.197717  1.0  \n",
      "3339.5  0.077872  1.0  \n",
      "3340.0  0.039200  1.0  \n",
      "...          ...  ...  \n",
      "3749.5  0.143693  1.0  \n",
      "3750.0  0.143834  1.0  \n",
      "3750.5  0.150668  1.0  \n",
      "3751.0  0.138214  1.0  \n",
      "3751.5  0.126190  1.0  \n",
      "\n",
      "[828 rows x 11 columns]\n"
     ]
    }
   ],
   "source": [
    "KujungFM['SW'] = sw_archie(KujungFM[\"NPHI_LS\"], KujungFM[\"ILD\"], KujungFM[\"rw\"], archieA, archieM, archieN)\n",
    "print(KujungFM)"
   ]
  },
  {
   "cell_type": "code",
   "execution_count": 27,
   "metadata": {},
   "outputs": [
    {
     "data": {
      "text/html": [
       "<div>\n",
       "<style scoped>\n",
       "    .dataframe tbody tr th:only-of-type {\n",
       "        vertical-align: middle;\n",
       "    }\n",
       "\n",
       "    .dataframe tbody tr th {\n",
       "        vertical-align: top;\n",
       "    }\n",
       "\n",
       "    .dataframe thead th {\n",
       "        text-align: right;\n",
       "    }\n",
       "</style>\n",
       "<table border=\"1\" class=\"dataframe\">\n",
       "  <thead>\n",
       "    <tr style=\"text-align: right;\">\n",
       "      <th></th>\n",
       "      <th>CALI</th>\n",
       "      <th>DT</th>\n",
       "      <th>GR</th>\n",
       "      <th>ILD</th>\n",
       "      <th>MSFL</th>\n",
       "      <th>NPHI_LS</th>\n",
       "      <th>RHOB</th>\n",
       "      <th>VSHALE</th>\n",
       "      <th>PHI</th>\n",
       "      <th>rw</th>\n",
       "      <th>SW</th>\n",
       "    </tr>\n",
       "  </thead>\n",
       "  <tbody>\n",
       "    <tr>\n",
       "      <th>count</th>\n",
       "      <td>828.000000</td>\n",
       "      <td>828.000000</td>\n",
       "      <td>828.000000</td>\n",
       "      <td>828.000000</td>\n",
       "      <td>828.000000</td>\n",
       "      <td>828.000000</td>\n",
       "      <td>828.000000</td>\n",
       "      <td>828.000000</td>\n",
       "      <td>828.000000</td>\n",
       "      <td>828.000000</td>\n",
       "      <td>8.280000e+02</td>\n",
       "    </tr>\n",
       "    <tr>\n",
       "      <th>mean</th>\n",
       "      <td>8.588909</td>\n",
       "      <td>118.736715</td>\n",
       "      <td>76.343841</td>\n",
       "      <td>1.109170</td>\n",
       "      <td>1.743801</td>\n",
       "      <td>0.381769</td>\n",
       "      <td>2.225851</td>\n",
       "      <td>0.659101</td>\n",
       "      <td>0.257057</td>\n",
       "      <td>0.154674</td>\n",
       "      <td>1.000000e+00</td>\n",
       "    </tr>\n",
       "    <tr>\n",
       "      <th>std</th>\n",
       "      <td>0.340040</td>\n",
       "      <td>12.152890</td>\n",
       "      <td>13.450552</td>\n",
       "      <td>0.408286</td>\n",
       "      <td>3.261412</td>\n",
       "      <td>0.053883</td>\n",
       "      <td>0.071534</td>\n",
       "      <td>0.225129</td>\n",
       "      <td>0.043354</td>\n",
       "      <td>0.032237</td>\n",
       "      <td>4.316309e-17</td>\n",
       "    </tr>\n",
       "    <tr>\n",
       "      <th>min</th>\n",
       "      <td>7.680000</td>\n",
       "      <td>57.625000</td>\n",
       "      <td>17.641000</td>\n",
       "      <td>0.563000</td>\n",
       "      <td>0.460000</td>\n",
       "      <td>0.119630</td>\n",
       "      <td>1.875000</td>\n",
       "      <td>-0.323400</td>\n",
       "      <td>-0.041800</td>\n",
       "      <td>0.039200</td>\n",
       "      <td>1.000000e+00</td>\n",
       "    </tr>\n",
       "    <tr>\n",
       "      <th>25%</th>\n",
       "      <td>8.344000</td>\n",
       "      <td>110.531000</td>\n",
       "      <td>69.188000</td>\n",
       "      <td>0.864750</td>\n",
       "      <td>1.119000</td>\n",
       "      <td>0.349120</td>\n",
       "      <td>2.188000</td>\n",
       "      <td>0.539300</td>\n",
       "      <td>0.238800</td>\n",
       "      <td>0.133070</td>\n",
       "      <td>1.000000e+00</td>\n",
       "    </tr>\n",
       "    <tr>\n",
       "      <th>50%</th>\n",
       "      <td>8.539000</td>\n",
       "      <td>119.375000</td>\n",
       "      <td>79.750000</td>\n",
       "      <td>1.061000</td>\n",
       "      <td>1.343500</td>\n",
       "      <td>0.387700</td>\n",
       "      <td>2.230000</td>\n",
       "      <td>0.716100</td>\n",
       "      <td>0.254500</td>\n",
       "      <td>0.152117</td>\n",
       "      <td>1.000000e+00</td>\n",
       "    </tr>\n",
       "    <tr>\n",
       "      <th>75%</th>\n",
       "      <td>8.758000</td>\n",
       "      <td>128.031250</td>\n",
       "      <td>85.453500</td>\n",
       "      <td>1.267250</td>\n",
       "      <td>1.583000</td>\n",
       "      <td>0.419920</td>\n",
       "      <td>2.256000</td>\n",
       "      <td>0.811575</td>\n",
       "      <td>0.280000</td>\n",
       "      <td>0.173003</td>\n",
       "      <td>1.000000e+00</td>\n",
       "    </tr>\n",
       "    <tr>\n",
       "      <th>max</th>\n",
       "      <td>10.422000</td>\n",
       "      <td>156.250000</td>\n",
       "      <td>101.188000</td>\n",
       "      <td>6.004000</td>\n",
       "      <td>42.829000</td>\n",
       "      <td>0.486330</td>\n",
       "      <td>2.719000</td>\n",
       "      <td>1.074900</td>\n",
       "      <td>0.469700</td>\n",
       "      <td>0.343277</td>\n",
       "      <td>1.000000e+00</td>\n",
       "    </tr>\n",
       "  </tbody>\n",
       "</table>\n",
       "</div>"
      ],
      "text/plain": [
       "             CALI          DT          GR         ILD        MSFL     NPHI_LS  \\\n",
       "count  828.000000  828.000000  828.000000  828.000000  828.000000  828.000000   \n",
       "mean     8.588909  118.736715   76.343841    1.109170    1.743801    0.381769   \n",
       "std      0.340040   12.152890   13.450552    0.408286    3.261412    0.053883   \n",
       "min      7.680000   57.625000   17.641000    0.563000    0.460000    0.119630   \n",
       "25%      8.344000  110.531000   69.188000    0.864750    1.119000    0.349120   \n",
       "50%      8.539000  119.375000   79.750000    1.061000    1.343500    0.387700   \n",
       "75%      8.758000  128.031250   85.453500    1.267250    1.583000    0.419920   \n",
       "max     10.422000  156.250000  101.188000    6.004000   42.829000    0.486330   \n",
       "\n",
       "             RHOB      VSHALE         PHI          rw            SW  \n",
       "count  828.000000  828.000000  828.000000  828.000000  8.280000e+02  \n",
       "mean     2.225851    0.659101    0.257057    0.154674  1.000000e+00  \n",
       "std      0.071534    0.225129    0.043354    0.032237  4.316309e-17  \n",
       "min      1.875000   -0.323400   -0.041800    0.039200  1.000000e+00  \n",
       "25%      2.188000    0.539300    0.238800    0.133070  1.000000e+00  \n",
       "50%      2.230000    0.716100    0.254500    0.152117  1.000000e+00  \n",
       "75%      2.256000    0.811575    0.280000    0.173003  1.000000e+00  \n",
       "max      2.719000    1.074900    0.469700    0.343277  1.000000e+00  "
      ]
     },
     "execution_count": 27,
     "metadata": {},
     "output_type": "execute_result"
    }
   ],
   "source": [
    "KujungFM.describe()"
   ]
  },
  {
   "cell_type": "markdown",
   "metadata": {},
   "source": [
    "## Data Handling"
   ]
  },
  {
   "cell_type": "markdown",
   "metadata": {},
   "source": [
    "- ***explore the statistical information of the SW and RW log***\n",
    "- ***compare the mean and the standard deviation of each log from the pandas result***\n",
    "- ***visualize using histogram, boxplot, etc***"
   ]
  },
  {
   "cell_type": "code",
   "execution_count": 17,
   "metadata": {},
   "outputs": [],
   "source": [
    "import pandas as pd\n"
   ]
  },
  {
   "cell_type": "code",
   "execution_count": 16,
   "metadata": {},
   "outputs": [
    {
     "name": "stdout",
     "output_type": "stream",
     "text": [
      "mean for all variables in KujungFM: \n",
      "ID    3.868502e+02\n",
      "X     6.092950e+05\n",
      "Y     7.577342e+06\n",
      "Pt    8.137131e-01\n",
      "dtype: float64\n",
      "\n",
      "median for all variables in KujungFM: \n",
      "ID        387.50\n",
      "X      614800.00\n",
      "Y     7580000.00\n",
      "Pt          0.67\n",
      "dtype: float64\n"
     ]
    }
   ],
   "source": [
    "print ('mean for all variables in KujungFM: \\n' + str(df.mean())+'\\n')\n",
    "print ('median for all variables in KujungFM: \\n' + str(df.median()))"
   ]
  },
  {
   "cell_type": "code",
   "execution_count": 18,
   "metadata": {},
   "outputs": [
    {
     "name": "stdout",
     "output_type": "stream",
     "text": [
      "range for all variables in KujungFM: \n",
      "CALI       2.742000e+00\n",
      "DT         9.862500e+01\n",
      "GR         8.354700e+01\n",
      "ILD        5.441000e+00\n",
      "MSFL       4.236900e+01\n",
      "NPHI_LS    3.667000e-01\n",
      "RHOB       8.440000e-01\n",
      "VSHALE     1.398300e+00\n",
      "PHI        5.115000e-01\n",
      "rw         9.413502e-02\n",
      "SW         1.110223e-16\n",
      "dtype: float64\n",
      "\n",
      "variance for all variables in KujungFM: \n",
      "CALI       1.156269e-01\n",
      "DT         1.476927e+02\n",
      "GR         1.809174e+02\n",
      "ILD        1.666978e-01\n",
      "MSFL       1.063681e+01\n",
      "NPHI_LS    2.903326e-03\n",
      "RHOB       5.117104e-03\n",
      "VSHALE     5.068322e-02\n",
      "PHI        1.879568e-03\n",
      "rw         8.692877e-05\n",
      "SW         2.459229e-33\n",
      "dtype: float64\n",
      "\n",
      "standard deviation for all variables in KujungFM: \n",
      "CALI       3.400395e-01\n",
      "DT         1.215289e+01\n",
      "GR         1.345055e+01\n",
      "ILD        4.082864e-01\n",
      "MSFL       3.261412e+00\n",
      "NPHI_LS    5.388252e-02\n",
      "RHOB       7.153393e-02\n",
      "VSHALE     2.251293e-01\n",
      "PHI        4.335398e-02\n",
      "rw         9.323560e-03\n",
      "SW         4.959061e-17\n",
      "dtype: float64\n"
     ]
    }
   ],
   "source": [
    "print ('range for all variables in KujungFM: \\n' + str(KujungFM.max()-KujungFM.min())+'\\n')\n",
    "print ('variance for all variables in KujungFM: \\n' + str(KujungFM.var())+'\\n')\n",
    "print ('standard deviation for all variables in KujungFM: \\n'+ str(KujungFM.std()))"
   ]
  },
  {
   "cell_type": "code",
   "execution_count": 19,
   "metadata": {
    "scrolled": true
   },
   "outputs": [
    {
     "name": "stdout",
     "output_type": "stream",
     "text": [
      "             CALI          DT          GR         ILD        MSFL     NPHI_LS  \\\n",
      "count  828.000000  828.000000  828.000000  828.000000  828.000000  828.000000   \n",
      "mean     8.588909  118.736715   76.343841    1.109170    1.743801    0.381769   \n",
      "std      0.340040   12.152890   13.450552    0.408286    3.261412    0.053883   \n",
      "min      7.680000   57.625000   17.641000    0.563000    0.460000    0.119630   \n",
      "25%      8.344000  110.531000   69.188000    0.864750    1.119000    0.349120   \n",
      "50%      8.539000  119.375000   79.750000    1.061000    1.343500    0.387700   \n",
      "75%      8.758000  128.031250   85.453500    1.267250    1.583000    0.419920   \n",
      "max     10.422000  156.250000  101.188000    6.004000   42.829000    0.486330   \n",
      "\n",
      "             RHOB      VSHALE         PHI          rw            SW  \n",
      "count  828.000000  828.000000  828.000000  828.000000  8.280000e+02  \n",
      "mean     2.225851    0.659101    0.257057    0.026337  1.000000e+00  \n",
      "std      0.071534    0.225129    0.043354    0.009324  4.959061e-17  \n",
      "min      1.875000   -0.323400   -0.041800    0.000016  1.000000e+00  \n",
      "25%      2.188000    0.539300    0.238800    0.021251  1.000000e+00  \n",
      "50%      2.230000    0.716100    0.254500    0.025079  1.000000e+00  \n",
      "75%      2.256000    0.811575    0.280000    0.030300  1.000000e+00  \n",
      "max      2.719000    1.074900    0.469700    0.094151  1.000000e+00  \n"
     ]
    }
   ],
   "source": [
    "print(KujungFM.describe())"
   ]
  },
  {
   "cell_type": "code",
   "execution_count": 20,
   "metadata": {},
   "outputs": [],
   "source": [
    "import matplotlib.pyplot as plt\n",
    "%matplotlib inline\n",
    "import seaborn as sns"
   ]
  },
  {
   "cell_type": "code",
   "execution_count": 26,
   "metadata": {},
   "outputs": [
    {
     "data": {
      "image/png": "[encoded data removed]",
      "text/plain": [
       "<Figure size 432x288 with 1 Axes>"
      ]
     },
     "metadata": {
      "needs_background": "light"
     },
     "output_type": "display_data"
    }
   ],
   "source": [
    "sns.boxplot(KujungFM[\"rw\"])\n",
    "plt.show()"
   ]
  },
  {
   "cell_type": "code",
   "execution_count": 32,
   "metadata": {},
   "outputs": [
    {
     "data": {
      "image/png": "[encoded data removed]",
      "text/plain": [
       "<Figure size 432x288 with 1 Axes>"
      ]
     },
     "metadata": {
      "needs_background": "light"
     },
     "output_type": "display_data"
    }
   ],
   "source": [
    "sns.boxplot(KujungFM[\"PHI\"])\n",
    "plt.show()"
   ]
  },
  {
   "cell_type": "code",
   "execution_count": 34,
   "metadata": {
    "scrolled": true
   },
   "outputs": [
    {
     "name": "stdout",
     "output_type": "stream",
     "text": [
      "         CALI       DT      GR    ILD   MSFL  NPHI_LS   RHOB  VSHALE     PHI  \\\n",
      "DEPTH                                                                          \n",
      "3338.0  8.617  123.625  88.812  1.006  1.292  0.48193  2.264  0.8678  0.2339   \n",
      "3338.5  8.562  116.875  79.500  1.182  1.258  0.46924  2.320  0.7119  0.2000   \n",
      "3339.0  8.594  100.000  68.562  1.417  1.250  0.37354  2.408  0.5289  0.1467   \n",
      "3339.5  8.492   83.938  51.500  1.742  1.430  0.21143  2.562  0.2433  0.0533   \n",
      "3340.0  8.297   65.750  33.844  2.174  7.311  0.13428  2.668 -0.0522 -0.0109   \n",
      "...       ...      ...     ...    ...    ...      ...    ...     ...     ...   \n",
      "3749.5  8.555  130.625  85.000  0.773  0.873  0.43115  2.184  0.8040  0.2824   \n",
      "3750.0  8.648  130.875  87.500  0.772  0.891  0.43164  2.170  0.8458  0.2909   \n",
      "3750.5  8.680  130.875  86.250  0.775  1.158  0.44092  2.178  0.8249  0.2861   \n",
      "3751.0  8.727  129.375  89.188  0.773  1.072  0.42285  2.184  0.8741  0.2824   \n",
      "3751.5  8.633  129.500  89.688  0.772  1.035  0.40430  2.191  0.8825  0.2782   \n",
      "\n",
      "              rw   SW  \n",
      "DEPTH                  \n",
      "3338.0  0.026366  1.0  \n",
      "3338.5  0.018770  1.0  \n",
      "3339.0  0.008039  1.0  \n",
      "3339.5  0.000601  1.0  \n",
      "3340.0  0.000016  1.0  \n",
      "...          ...  ...  \n",
      "3749.5  0.034384  1.0  \n",
      "3750.0  0.036527  1.0  \n",
      "3750.5  0.036091  1.0  \n",
      "3751.0  0.033722  1.0  \n",
      "3751.5  0.031291  1.0  \n",
      "\n",
      "[828 rows x 11 columns]\n"
     ]
    }
   ],
   "source": [
    "print(KujungFM)"
   ]
  },
  {
   "cell_type": "code",
   "execution_count": 37,
   "metadata": {},
   "outputs": [
    {
     "data": {
      "image/png": "[encoded data removed]",
      "text/plain": [
       "<Figure size 432x288 with 1 Axes>"
      ]
     },
     "metadata": {
      "needs_background": "light"
     },
     "output_type": "display_data"
    }
   ],
   "source": [
    "sns.distplot(KujungFM[\"rw\"], bins=5)\n",
    "plt.show()"
   ]
  }
 ],
 "metadata": {
  "kernelspec": {
   "display_name": "Python 3",
   "language": "python",
   "name": "python3"
  },
  "language_info": {
   "codemirror_mode": {
    "name": "ipython",
    "version": 3
   },
   "file_extension": ".py",
   "mimetype": "text/x-python",
   "name": "python",
   "nbconvert_exporter": "python",
   "pygments_lexer": "ipython3",
   "version": "3.8.5"
  }
 },
 "nbformat": 4,
 "nbformat_minor": 4
}
