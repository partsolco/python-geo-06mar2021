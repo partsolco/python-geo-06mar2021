{
  "nbformat": 4,
  "nbformat_minor": 0,
  "metadata": {
    "kernelspec": {
      "display_name": "Python 3",
      "language": "python",
      "name": "python3"
    },
    "language_info": {
      "codemirror_mode": {
        "name": "ipython",
        "version": 3
      },
      "file_extension": ".py",
      "mimetype": "text/x-python",
      "name": "python",
      "nbconvert_exporter": "python",
      "pygments_lexer": "ipython3",
      "version": "3.8.3"
    },
    "colab": {
      "name": "Assignment Partsol_Ahmad_Khoirul_Basyar.ipynb",
      "provenance": []
    }
  },
  "cells": [
    {
      "cell_type": "code",
      "metadata": {
        "id": "BmaMzXqdQ7yo"
      },
      "source": [
        "import warnings\n",
        "warnings.filterwarnings('ignore')"
      ],
      "execution_count": null,
      "outputs": []
    },
    {
      "cell_type": "markdown",
      "metadata": {
        "id": "Zo7AZiw6Q7y3"
      },
      "source": [
        "## Petrophysics calculation"
      ]
    },
    {
      "cell_type": "code",
      "metadata": {
        "id": "6j3qciy2Q7y4",
        "outputId": "14f184d1-b44e-440c-d3be-394ac0878bbc"
      },
      "source": [
        "import numpy as np\n",
        "import matplotlib.pyplot as plt\n",
        "import pandas as pd\n",
        "\n",
        "file = 'well-1.las'\n",
        "data = np.loadtxt (file, skiprows=40) #import ascii to numpy array skip to row 40\n",
        "#data [data==-999.2500] = np.nan\n",
        "\n",
        "print (len(data))\n",
        "print (data)\n"
      ],
      "execution_count": null,
      "outputs": [
        {
          "output_type": "stream",
          "text": [
            "2919\n",
            "[[3.00100e+03 9.98400e+00 1.48500e+02 ... 9.91000e-01 4.37010e-01\n",
            "  2.17000e+00]\n",
            " [3.00150e+03 9.93800e+00 1.48625e+02 ... 1.02600e+00 4.77050e-01\n",
            "  2.17600e+00]\n",
            " [3.00200e+03 9.91400e+00 1.46125e+02 ... 9.90000e-01 4.59470e-01\n",
            "  2.16600e+00]\n",
            " ...\n",
            " [4.45900e+03 8.48400e+00 1.09562e+02 ... 1.95900e+00 3.56930e-01\n",
            "  2.31600e+00]\n",
            " [4.45950e+03 8.46100e+00 1.10750e+02 ... 1.74600e+00 3.72560e-01\n",
            "  2.31100e+00]\n",
            " [4.46000e+03 8.46900e+00 1.10938e+02 ... 1.62500e+00 3.67680e-01\n",
            "  2.30700e+00]]\n"
          ],
          "name": "stdout"
        }
      ]
    },
    {
      "cell_type": "code",
      "metadata": {
        "id": "8mzXELD8Q7y8",
        "outputId": "5ac88d27-7988-4d2f-e246-214fcb0391c3"
      },
      "source": [
        "#convert the las file to pandas dataframe, this will automatically retain the logname and made the depth as index column\n",
        "header= ['DEPTH', 'CALI', 'DT', 'GR', 'ILD', 'MSFL', 'NPHI_LS', 'RHOB']\n",
        "data=pd.DataFrame(data,columns=header) #we convert the array to a pandas dataframe\n",
        "\n",
        "data.set_index('DEPTH', inplace=True)\n",
        "\n",
        "well=data\n",
        "print (data)"
      ],
      "execution_count": null,
      "outputs": [
        {
          "output_type": "stream",
          "text": [
            "         CALI       DT      GR    ILD   MSFL  NPHI_LS   RHOB\n",
            "DEPTH                                                       \n",
            "3001.0  9.984  148.500  80.875  0.722  0.991  0.43701  2.170\n",
            "3001.5  9.938  148.625  80.875  0.718  1.026  0.47705  2.176\n",
            "3002.0  9.914  146.125  80.625  0.714  0.990  0.45947  2.166\n",
            "3002.5  9.859  145.375  82.625  0.715  0.953  0.47754  2.158\n",
            "3003.0  9.914  145.125  81.938  0.709  0.900  0.45508  2.156\n",
            "...       ...      ...     ...    ...    ...      ...    ...\n",
            "4458.0  8.484  109.000  79.812  1.122  1.744  0.33252  2.316\n",
            "4458.5  8.469  109.438  82.312  1.112  1.972  0.34082  2.326\n",
            "4459.0  8.484  109.562  77.188  1.092  1.959  0.35693  2.316\n",
            "4459.5  8.461  110.750  75.250  1.079  1.746  0.37256  2.311\n",
            "4460.0  8.469  110.938  75.188  1.067  1.625  0.36768  2.307\n",
            "\n",
            "[2919 rows x 7 columns]\n"
          ],
          "name": "stdout"
        }
      ]
    },
    {
      "cell_type": "code",
      "metadata": {
        "id": "7jdMqmMIQ7y9",
        "outputId": "1ff1265f-3b95-4a2d-a03a-18c21ac276c1"
      },
      "source": [
        "well = data\n",
        "KujungFM=well.loc[3337.79:3751.5]\n",
        "print (KujungFM)"
      ],
      "execution_count": null,
      "outputs": [
        {
          "output_type": "stream",
          "text": [
            "         CALI       DT      GR    ILD   MSFL  NPHI_LS   RHOB\n",
            "DEPTH                                                       \n",
            "3338.0  8.617  123.625  88.812  1.006  1.292  0.48193  2.264\n",
            "3338.5  8.562  116.875  79.500  1.182  1.258  0.46924  2.320\n",
            "3339.0  8.594  100.000  68.562  1.417  1.250  0.37354  2.408\n",
            "3339.5  8.492   83.938  51.500  1.742  1.430  0.21143  2.562\n",
            "3340.0  8.297   65.750  33.844  2.174  7.311  0.13428  2.668\n",
            "...       ...      ...     ...    ...    ...      ...    ...\n",
            "3749.5  8.555  130.625  85.000  0.773  0.873  0.43115  2.184\n",
            "3750.0  8.648  130.875  87.500  0.772  0.891  0.43164  2.170\n",
            "3750.5  8.680  130.875  86.250  0.775  1.158  0.44092  2.178\n",
            "3751.0  8.727  129.375  89.188  0.773  1.072  0.42285  2.184\n",
            "3751.5  8.633  129.500  89.688  0.772  1.035  0.40430  2.191\n",
            "\n",
            "[828 rows x 7 columns]\n"
          ],
          "name": "stdout"
        }
      ]
    },
    {
      "cell_type": "code",
      "metadata": {
        "id": "d9mkZmy5Q7y-"
      },
      "source": [
        "#this code is adapted from andy mcdonald\n",
        "\n",
        "def shale_volume(gamma_ray, gamma_ray_max, gamma_ray_min): #specify the arguments\n",
        "    vshale = (gamma_ray - gamma_ray_min) / (gamma_ray_max - gamma_ray_min) #use the argument to the equation using math operators\n",
        "    return round(vshale, 4)\n",
        "\n",
        "def density_porosity(input_density, matrix_density, fluid_density):\n",
        "    denpor = (matrix_density - input_density) / (matrix_density - fluid_density)\n",
        "    return round(denpor, 4)"
      ],
      "execution_count": null,
      "outputs": []
    },
    {
      "cell_type": "code",
      "metadata": {
        "id": "kG41Q2HTQ7y_",
        "outputId": "4d0f8872-3162-48c8-d320-b833c30af5a0"
      },
      "source": [
        "mDens= 2.65\n",
        "fDens= 1\n",
        "KujungFM['VSHALE']=shale_volume(KujungFM['GR'], KujungFM['GR'].quantile(q=0.99),\n",
        "                             KujungFM['GR'].quantile(q=0.01))\n",
        "KujungFM['PHI']=density_porosity(KujungFM['RHOB'], mDens, fDens)\n",
        "KujungFM.head()"
      ],
      "execution_count": null,
      "outputs": [
        {
          "output_type": "execute_result",
          "data": {
            "text/html": [
              "<div>\n",
              "<style scoped>\n",
              "    .dataframe tbody tr th:only-of-type {\n",
              "        vertical-align: middle;\n",
              "    }\n",
              "\n",
              "    .dataframe tbody tr th {\n",
              "        vertical-align: top;\n",
              "    }\n",
              "\n",
              "    .dataframe thead th {\n",
              "        text-align: right;\n",
              "    }\n",
              "</style>\n",
              "<table border=\"1\" class=\"dataframe\">\n",
              "  <thead>\n",
              "    <tr style=\"text-align: right;\">\n",
              "      <th></th>\n",
              "      <th>CALI</th>\n",
              "      <th>DT</th>\n",
              "      <th>GR</th>\n",
              "      <th>ILD</th>\n",
              "      <th>MSFL</th>\n",
              "      <th>NPHI_LS</th>\n",
              "      <th>RHOB</th>\n",
              "      <th>VSHALE</th>\n",
              "      <th>PHI</th>\n",
              "    </tr>\n",
              "    <tr>\n",
              "      <th>DEPTH</th>\n",
              "      <th></th>\n",
              "      <th></th>\n",
              "      <th></th>\n",
              "      <th></th>\n",
              "      <th></th>\n",
              "      <th></th>\n",
              "      <th></th>\n",
              "      <th></th>\n",
              "      <th></th>\n",
              "    </tr>\n",
              "  </thead>\n",
              "  <tbody>\n",
              "    <tr>\n",
              "      <th>3338.0</th>\n",
              "      <td>8.617</td>\n",
              "      <td>123.625</td>\n",
              "      <td>88.812</td>\n",
              "      <td>1.006</td>\n",
              "      <td>1.292</td>\n",
              "      <td>0.48193</td>\n",
              "      <td>2.264</td>\n",
              "      <td>0.8678</td>\n",
              "      <td>0.2339</td>\n",
              "    </tr>\n",
              "    <tr>\n",
              "      <th>3338.5</th>\n",
              "      <td>8.562</td>\n",
              "      <td>116.875</td>\n",
              "      <td>79.500</td>\n",
              "      <td>1.182</td>\n",
              "      <td>1.258</td>\n",
              "      <td>0.46924</td>\n",
              "      <td>2.320</td>\n",
              "      <td>0.7119</td>\n",
              "      <td>0.2000</td>\n",
              "    </tr>\n",
              "    <tr>\n",
              "      <th>3339.0</th>\n",
              "      <td>8.594</td>\n",
              "      <td>100.000</td>\n",
              "      <td>68.562</td>\n",
              "      <td>1.417</td>\n",
              "      <td>1.250</td>\n",
              "      <td>0.37354</td>\n",
              "      <td>2.408</td>\n",
              "      <td>0.5289</td>\n",
              "      <td>0.1467</td>\n",
              "    </tr>\n",
              "    <tr>\n",
              "      <th>3339.5</th>\n",
              "      <td>8.492</td>\n",
              "      <td>83.938</td>\n",
              "      <td>51.500</td>\n",
              "      <td>1.742</td>\n",
              "      <td>1.430</td>\n",
              "      <td>0.21143</td>\n",
              "      <td>2.562</td>\n",
              "      <td>0.2433</td>\n",
              "      <td>0.0533</td>\n",
              "    </tr>\n",
              "    <tr>\n",
              "      <th>3340.0</th>\n",
              "      <td>8.297</td>\n",
              "      <td>65.750</td>\n",
              "      <td>33.844</td>\n",
              "      <td>2.174</td>\n",
              "      <td>7.311</td>\n",
              "      <td>0.13428</td>\n",
              "      <td>2.668</td>\n",
              "      <td>-0.0522</td>\n",
              "      <td>-0.0109</td>\n",
              "    </tr>\n",
              "  </tbody>\n",
              "</table>\n",
              "</div>"
            ],
            "text/plain": [
              "         CALI       DT      GR    ILD   MSFL  NPHI_LS   RHOB  VSHALE     PHI\n",
              "DEPTH                                                                       \n",
              "3338.0  8.617  123.625  88.812  1.006  1.292  0.48193  2.264  0.8678  0.2339\n",
              "3338.5  8.562  116.875  79.500  1.182  1.258  0.46924  2.320  0.7119  0.2000\n",
              "3339.0  8.594  100.000  68.562  1.417  1.250  0.37354  2.408  0.5289  0.1467\n",
              "3339.5  8.492   83.938  51.500  1.742  1.430  0.21143  2.562  0.2433  0.0533\n",
              "3340.0  8.297   65.750  33.844  2.174  7.311  0.13428  2.668 -0.0522 -0.0109"
            ]
          },
          "metadata": {
            "tags": []
          },
          "execution_count": 23
        }
      ]
    },
    {
      "cell_type": "markdown",
      "metadata": {
        "id": "QdC5SOgeQ7zB"
      },
      "source": [
        "### Calculate RW and SW\n",
        "\n",
        "**Apparent water formation resistivity using Hingle method**\n",
    "<img src=https://github.com/partsolco/python-geo-20feb2021/blob/main/images/rw.PNG?raw=true>\n",
    "\n",
    "**SW:**\n",
    "<img src=https://github.com/partsolco/python-geo-20feb2021/blob/main/images/sw_archie.png?raw=true>"
      ]
    },
    {
      "cell_type": "code",
      "metadata": {
        "id": "woRTv2xZQ7zB"
      },
      "source": [
        "def rw_app(porosity, archieA, archieM, rt):\n",
        "    rw= ((porosity**archieM)*(rt/archieA))\n",
        "    return rw\n",
        "\n",
        "def sw_archie(porosity, rt, rw, archieA, archieM, archieN):\n",
        "    sw = ((archieA / (porosity ** archieM)) * (rw/rt))**(1/archieN)\n",
        "    return sw\n",
        "\n",
        "archieA= 1\n",
        "archieM= 2\n",
        "archieN= 2"
      ],
      "execution_count": null,
      "outputs": []
    },
    {
      "cell_type": "code",
      "metadata": {
        "id": "C_QA6hcyQ7zC"
      },
      "source": [
        "KujungFM['rw']= rw_app (KujungFM['NPHI_LS'], archieA, archieM, KujungFM['ILD'])\n",
        "KujungFM['SW'] = sw_archie(KujungFM['NPHI_LS'], KujungFM['ILD'], KujungFM['rw'], archieA, archieM, archieN)"
      ],
      "execution_count": null,
      "outputs": []
    },
    {
      "cell_type": "code",
      "metadata": {
        "id": "o7_NVJumQ7zE",
        "outputId": "5c312916-291a-4cbe-e7aa-a54332205369"
      },
      "source": [
        "KujungFM.head()"
      ],
      "execution_count": null,
      "outputs": [
        {
          "output_type": "execute_result",
          "data": {
            "text/html": [
              "<div>\n",
              "<style scoped>\n",
              "    .dataframe tbody tr th:only-of-type {\n",
              "        vertical-align: middle;\n",
              "    }\n",
              "\n",
              "    .dataframe tbody tr th {\n",
              "        vertical-align: top;\n",
              "    }\n",
              "\n",
              "    .dataframe thead th {\n",
              "        text-align: right;\n",
              "    }\n",
              "</style>\n",
              "<table border=\"1\" class=\"dataframe\">\n",
              "  <thead>\n",
              "    <tr style=\"text-align: right;\">\n",
              "      <th></th>\n",
              "      <th>CALI</th>\n",
              "      <th>DT</th>\n",
              "      <th>GR</th>\n",
              "      <th>ILD</th>\n",
              "      <th>MSFL</th>\n",
              "      <th>NPHI_LS</th>\n",
              "      <th>RHOB</th>\n",
              "      <th>VSHALE</th>\n",
              "      <th>PHI</th>\n",
              "      <th>rw</th>\n",
              "      <th>SW</th>\n",
              "    </tr>\n",
              "    <tr>\n",
              "      <th>DEPTH</th>\n",
              "      <th></th>\n",
              "      <th></th>\n",
              "      <th></th>\n",
              "      <th></th>\n",
              "      <th></th>\n",
              "      <th></th>\n",
              "      <th></th>\n",
              "      <th></th>\n",
              "      <th></th>\n",
              "      <th></th>\n",
              "      <th></th>\n",
              "    </tr>\n",
              "  </thead>\n",
              "  <tbody>\n",
              "    <tr>\n",
              "      <th>3338.0</th>\n",
              "      <td>8.617</td>\n",
              "      <td>123.625</td>\n",
              "      <td>88.812</td>\n",
              "      <td>1.006</td>\n",
              "      <td>1.292</td>\n",
              "      <td>0.48193</td>\n",
              "      <td>2.264</td>\n",
              "      <td>0.8678</td>\n",
              "      <td>0.2339</td>\n",
              "      <td>0.233650</td>\n",
              "      <td>1.0</td>\n",
              "    </tr>\n",
              "    <tr>\n",
              "      <th>3338.5</th>\n",
              "      <td>8.562</td>\n",
              "      <td>116.875</td>\n",
              "      <td>79.500</td>\n",
              "      <td>1.182</td>\n",
              "      <td>1.258</td>\n",
              "      <td>0.46924</td>\n",
              "      <td>2.320</td>\n",
              "      <td>0.7119</td>\n",
              "      <td>0.2000</td>\n",
              "      <td>0.260260</td>\n",
              "      <td>1.0</td>\n",
              "    </tr>\n",
              "    <tr>\n",
              "      <th>3339.0</th>\n",
              "      <td>8.594</td>\n",
              "      <td>100.000</td>\n",
              "      <td>68.562</td>\n",
              "      <td>1.417</td>\n",
              "      <td>1.250</td>\n",
              "      <td>0.37354</td>\n",
              "      <td>2.408</td>\n",
              "      <td>0.5289</td>\n",
              "      <td>0.1467</td>\n",
              "      <td>0.197717</td>\n",
              "      <td>1.0</td>\n",
              "    </tr>\n",
              "    <tr>\n",
              "      <th>3339.5</th>\n",
              "      <td>8.492</td>\n",
              "      <td>83.938</td>\n",
              "      <td>51.500</td>\n",
              "      <td>1.742</td>\n",
              "      <td>1.430</td>\n",
              "      <td>0.21143</td>\n",
              "      <td>2.562</td>\n",
              "      <td>0.2433</td>\n",
              "      <td>0.0533</td>\n",
              "      <td>0.077872</td>\n",
              "      <td>1.0</td>\n",
              "    </tr>\n",
              "    <tr>\n",
              "      <th>3340.0</th>\n",
              "      <td>8.297</td>\n",
              "      <td>65.750</td>\n",
              "      <td>33.844</td>\n",
              "      <td>2.174</td>\n",
              "      <td>7.311</td>\n",
              "      <td>0.13428</td>\n",
              "      <td>2.668</td>\n",
              "      <td>-0.0522</td>\n",
              "      <td>-0.0109</td>\n",
              "      <td>0.039200</td>\n",
              "      <td>1.0</td>\n",
              "    </tr>\n",
              "  </tbody>\n",
              "</table>\n",
              "</div>"
            ],
            "text/plain": [
              "         CALI       DT      GR    ILD   MSFL  NPHI_LS   RHOB  VSHALE     PHI  \\\n",
              "DEPTH                                                                          \n",
              "3338.0  8.617  123.625  88.812  1.006  1.292  0.48193  2.264  0.8678  0.2339   \n",
              "3338.5  8.562  116.875  79.500  1.182  1.258  0.46924  2.320  0.7119  0.2000   \n",
              "3339.0  8.594  100.000  68.562  1.417  1.250  0.37354  2.408  0.5289  0.1467   \n",
              "3339.5  8.492   83.938  51.500  1.742  1.430  0.21143  2.562  0.2433  0.0533   \n",
              "3340.0  8.297   65.750  33.844  2.174  7.311  0.13428  2.668 -0.0522 -0.0109   \n",
              "\n",
              "              rw   SW  \n",
              "DEPTH                  \n",
              "3338.0  0.233650  1.0  \n",
              "3338.5  0.260260  1.0  \n",
              "3339.0  0.197717  1.0  \n",
              "3339.5  0.077872  1.0  \n",
              "3340.0  0.039200  1.0  "
            ]
          },
          "metadata": {
            "tags": []
          },
          "execution_count": 45
        }
      ]
    },
    {
      "cell_type": "markdown",
      "metadata": {
        "id": "qJF9rdbFQ7zI"
      },
      "source": [
        "## Data Handling"
      ]
    },
    {
      "cell_type": "markdown",
      "metadata": {
        "id": "bcqCNmv1Q7zI"
      },
      "source": [
        "- ***explore the statistical information of the SW and RW log***\n",
        "- ***compare the mean and the standard deviation of each log from the pandas result***\n",
        "- ***visualize using histogram, boxplot, etc***"
      ]
    },
    {
      "cell_type": "code",
      "metadata": {
        "id": "gqH4xedVQ7zQ",
        "outputId": "781ed6d9-a9a0-417a-d12d-13c7b63d0624"
      },
      "source": [
        "KujungFM.mean()"
      ],
      "execution_count": null,
      "outputs": [
        {
          "output_type": "execute_result",
          "data": {
            "text/plain": [
              "CALI         8.588909\n",
              "DT         118.736715\n",
              "GR          76.343841\n",
              "ILD          1.109170\n",
              "MSFL         1.743801\n",
              "NPHI_LS      0.381769\n",
              "RHOB         2.225851\n",
              "VSHALE       0.659101\n",
              "PHI          0.257057\n",
              "rw           0.154674\n",
              "SW           1.000000\n",
              "dtype: float64"
            ]
          },
          "metadata": {
            "tags": []
          },
          "execution_count": 46
        }
      ]
    },
    {
      "cell_type": "code",
      "metadata": {
        "id": "JRGpoHsWQ7zR",
        "outputId": "3946960e-4dd5-4e9d-892b-1a170f19b7a9"
      },
      "source": [
        "KujungFM.median()"
      ],
      "execution_count": null,
      "outputs": [
        {
          "output_type": "execute_result",
          "data": {
            "text/plain": [
              "CALI         8.539000\n",
              "DT         119.375000\n",
              "GR          79.750000\n",
              "ILD          1.061000\n",
              "MSFL         1.343500\n",
              "NPHI_LS      0.387700\n",
              "RHOB         2.230000\n",
              "VSHALE       0.716100\n",
              "PHI          0.254500\n",
              "rw           0.152117\n",
              "SW           1.000000\n",
              "dtype: float64"
            ]
          },
          "metadata": {
            "tags": []
          },
          "execution_count": 48
        }
      ]
    },
    {
      "cell_type": "code",
      "metadata": {
        "id": "aUrNSU8wQ7zR",
        "outputId": "208dc120-61dc-4934-8774-b77e6f49e399"
      },
      "source": [
        "KujungFM.std()"
      ],
      "execution_count": null,
      "outputs": [
        {
          "output_type": "execute_result",
          "data": {
            "text/plain": [
              "CALI       3.400395e-01\n",
              "DT         1.215289e+01\n",
              "GR         1.345055e+01\n",
              "ILD        4.082864e-01\n",
              "MSFL       3.261412e+00\n",
              "NPHI_LS    5.388252e-02\n",
              "RHOB       7.153393e-02\n",
              "VSHALE     2.251293e-01\n",
              "PHI        4.335398e-02\n",
              "rw         3.223677e-02\n",
              "SW         4.316309e-17\n",
              "dtype: float64"
            ]
          },
          "metadata": {
            "tags": []
          },
          "execution_count": 49
        }
      ]
    },
    {
      "cell_type": "code",
      "metadata": {
        "id": "aSgypXFvQ7zS",
        "outputId": "e2b47843-616a-49f2-d934-7fe1037d5993"
      },
      "source": [
        "import seaborn as sns\n",
        "\n",
        "sns.boxplot(KujungFM['rw'])\n",
        "plt.show()"
      ],
      "execution_count": null,
      "outputs": [
        {
          "output_type": "display_data",
          "data": {
            "image/png": "[encoded data removed]",
            "text/plain": [
              "<Figure size 432x288 with 1 Axes>"
            ]
          },
          "metadata": {
            "tags": [],
            "needs_background": "light"
          }
        }
      ]
    },
    {
      "cell_type": "code",
      "metadata": {
        "id": "TfGDgCGtQ7zT",
        "outputId": "ed3e0f40-f982-41fa-9bee-7a982f4da8a8"
      },
      "source": [
        "sns.distplot(KujungFM['rw'], bins = 60)\n",
        "plt.show()"
      ],
      "execution_count": null,
      "outputs": [
        {
          "output_type": "display_data",
          "data": {
            "image/png": "[encoded data removed]",
            "text/plain": [
              "<Figure size 432x288 with 1 Axes>"
            ]
          },
          "metadata": {
            "tags": [],
            "needs_background": "light"
          }
        }
      ]
    },
    {
      "cell_type": "code",
      "metadata": {
        "id": "UUYWYLoFQ7zU",
        "outputId": "2807f93a-9136-4019-b02c-4d0775195dc5"
      },
      "source": [
        "sns.boxplot(KujungFM['SW'])\n",
        "plt.show()"
      ],
      "execution_count": null,
      "outputs": [
        {
          "output_type": "display_data",
          "data": {
            "image/png": "[encoded data removed]",
            "text/plain": [
              "<Figure size 432x288 with 1 Axes>"
            ]
          },
          "metadata": {
            "tags": [],
            "needs_background": "light"
          }
        }
      ]
    },
    {
      "cell_type": "code",
      "metadata": {
        "id": "kGuDMtQEQ7zW",
        "outputId": "1218d0b0-3aca-4e65-b9ad-a6f71ef5a878"
      },
      "source": [
        "sns.distplot(KujungFM['SW'], bins = 60)\n",
        "plt.show()"
      ],
      "execution_count": null,
      "outputs": [
        {
          "output_type": "display_data",
          "data": {
            "image/png": "[encoded data removed]",
            "text/plain": [
              "<Figure size 432x288 with 1 Axes>"
            ]
          },
          "metadata": {
            "tags": [],
            "needs_background": "light"
          }
        }
      ]
    },
    {
      "cell_type": "code",
      "metadata": {
        "id": "yQM1lKMoQ7zX"
      },
      "source": [
        ""
      ],
      "execution_count": null,
      "outputs": []
    }
  ]
}
